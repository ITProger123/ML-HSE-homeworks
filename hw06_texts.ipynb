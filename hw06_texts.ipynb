{
  "cells": [
    {
      "cell_type": "markdown",
      "metadata": {
        "id": "Ffq6A2-ifzAA"
      },
      "source": [
        "# Интеллектуальный анализ данных – весна 2024\n",
        "# Домашнее задание 6: классификация текстов"
      ]
    },
    {
      "cell_type": "markdown",
      "metadata": {
        "id": "EPcxtekTA1Sm"
      },
      "source": [
        "Правила:\n",
        "\n",
        "\n",
        "\n",
        "*   Домашнее задание оценивается в 10 баллов.\n",
        "*   Можно использовать без доказательства любые результаты, встречавшиеся на лекциях или семинарах по курсу, если получение этих результатов не является вопросом задания.\n",
        "*  Можно использовать любые свободные источники с *обязательным* указанием ссылки на них.\n",
        "*  Плагиат не допускается. При обнаружении случаев списывания, 0 за работу выставляется всем участникам нарушения, даже если можно установить, кто у кого списал.\n",
        "*  Старайтесь сделать код как можно более оптимальным. В частности, будет штрафоваться использование циклов в тех случаях, когда операцию можно совершить при помощи инструментов библиотек, о которых рассказывалось в курсе."
      ]
    },
    {
      "cell_type": "markdown",
      "metadata": {
        "id": "itRtFtrOf0_b"
      },
      "source": [
        "В этом домашнем задании вам предстоит построить классификатор текстов.\n",
        "\n",
        "Будем предсказывать эмоциональную окраску твиттов о коронавирусе.\n",
        "\n"
      ]
    },
    {
      "cell_type": "code",
      "execution_count": 86,
      "metadata": {
        "id": "tNGRVO7_g9mz"
      },
      "outputs": [],
      "source": [
        "import numpy as np\n",
        "import pandas as pd\n",
        "from typing import  List\n",
        "import matplotlib.pyplot as plt\n",
        "import seaborn as sns\n",
        "from string import punctuation\n",
        "import warnings\n",
        "warnings.filterwarnings('ignore')"
      ]
    },
    {
      "cell_type": "code",
      "execution_count": 87,
      "metadata": {
        "colab": {
          "base_uri": "https://localhost:8080/",
          "height": 174
        },
        "id": "zOy8iHJQg_Ss",
        "outputId": "01951c93-1976-4fd2-b432-f9ec217dbd17"
      },
      "outputs": [
        {
          "data": {
            "text/html": [
              "<div>\n",
              "<style scoped>\n",
              "    .dataframe tbody tr th:only-of-type {\n",
              "        vertical-align: middle;\n",
              "    }\n",
              "\n",
              "    .dataframe tbody tr th {\n",
              "        vertical-align: top;\n",
              "    }\n",
              "\n",
              "    .dataframe thead th {\n",
              "        text-align: right;\n",
              "    }\n",
              "</style>\n",
              "<table border=\"1\" class=\"dataframe\">\n",
              "  <thead>\n",
              "    <tr style=\"text-align: right;\">\n",
              "      <th></th>\n",
              "      <th>UserName</th>\n",
              "      <th>ScreenName</th>\n",
              "      <th>Location</th>\n",
              "      <th>TweetAt</th>\n",
              "      <th>OriginalTweet</th>\n",
              "      <th>Sentiment</th>\n",
              "    </tr>\n",
              "  </thead>\n",
              "  <tbody>\n",
              "    <tr>\n",
              "      <th>3181</th>\n",
              "      <td>7651</td>\n",
              "      <td>52603</td>\n",
              "      <td>NaN</td>\n",
              "      <td>18-03-2020</td>\n",
              "      <td>LA Mayor Eric Garcetti Grocery store workers h...</td>\n",
              "      <td>Positive</td>\n",
              "    </tr>\n",
              "    <tr>\n",
              "      <th>24876</th>\n",
              "      <td>34246</td>\n",
              "      <td>79198</td>\n",
              "      <td>NaN</td>\n",
              "      <td>06-04-2020</td>\n",
              "      <td>19 7 72 605 LPG cylinders have been delivered ...</td>\n",
              "      <td>Negative</td>\n",
              "    </tr>\n",
              "    <tr>\n",
              "      <th>17138</th>\n",
              "      <td>24658</td>\n",
              "      <td>69610</td>\n",
              "      <td>London base - Global &amp; Virtual</td>\n",
              "      <td>25-03-2020</td>\n",
              "      <td>Fear is.....waiting 90 minutes for the online ...</td>\n",
              "      <td>Negative</td>\n",
              "    </tr>\n",
              "    <tr>\n",
              "      <th>20334</th>\n",
              "      <td>28602</td>\n",
              "      <td>73554</td>\n",
              "      <td>Maui</td>\n",
              "      <td>27-03-2020</td>\n",
              "      <td>The ÃÂgoodÃÂthing abt #coronavirus #econom...</td>\n",
              "      <td>Negative</td>\n",
              "    </tr>\n",
              "  </tbody>\n",
              "</table>\n",
              "</div>"
            ],
            "text/plain": [
              "       UserName  ScreenName                        Location     TweetAt  \\\n",
              "3181       7651       52603                             NaN  18-03-2020   \n",
              "24876     34246       79198                             NaN  06-04-2020   \n",
              "17138     24658       69610  London base - Global & Virtual  25-03-2020   \n",
              "20334     28602       73554                            Maui  27-03-2020   \n",
              "\n",
              "                                           OriginalTweet Sentiment  \n",
              "3181   LA Mayor Eric Garcetti Grocery store workers h...  Positive  \n",
              "24876  19 7 72 605 LPG cylinders have been delivered ...  Negative  \n",
              "17138  Fear is.....waiting 90 minutes for the online ...  Negative  \n",
              "20334  The ÃÂgoodÃÂthing abt #coronavirus #econom...  Negative  "
            ]
          },
          "execution_count": 87,
          "metadata": {},
          "output_type": "execute_result"
        }
      ],
      "source": [
        "df = pd.read_csv('Data/tweets_coronavirus.csv', encoding='latin-1')\n",
        "df.sample(4)"
      ]
    },
    {
      "cell_type": "markdown",
      "metadata": {
        "id": "m2OiDog9ZBlS"
      },
      "source": [
        "Для каждого твитта указано:\n",
        "\n",
        "\n",
        "*   UserName - имя пользователя, заменено на целое число для анонимности\n",
        "*   ScreenName - отображающееся имя пользователя, заменено на целое число для анонимности\n",
        "*   Location - местоположение\n",
        "*   TweetAt - дата создания твитта\n",
        "*   OriginalTweet - текст твитта\n",
        "*   Sentiment - эмоциональная окраска твитта (целевая переменная)\n",
        "\n"
      ]
    },
    {
      "cell_type": "markdown",
      "metadata": {
        "id": "pZTMseDkhTC7"
      },
      "source": [
        "## Задание 1 Подготовка (0.5 балла)"
      ]
    },
    {
      "cell_type": "markdown",
      "metadata": {
        "id": "Xx2-odn9hdAW"
      },
      "source": [
        "Целевая переменная находится в колонке `Sentiment`.  Преобразуйте ее таким образом, чтобы она стала бинарной: 1 - если у твитта положительная эмоциональная окраска и 0 - если отрицательная."
      ]
    },
    {
      "cell_type": "code",
      "execution_count": 88,
      "metadata": {
        "id": "qlhCjEgpW9Fo",
        "outputId": "d98be212-14c3-40e6-cd42-a444d98cf420"
      },
      "outputs": [
        {
          "data": {
            "text/plain": [
              "Sentiment\n",
              "Positive              11422\n",
              "Negative               9917\n",
              "Extremely Positive     6624\n",
              "Extremely Negative     5481\n",
              "Name: count, dtype: int64"
            ]
          },
          "execution_count": 88,
          "metadata": {},
          "output_type": "execute_result"
        }
      ],
      "source": [
        "df['Sentiment'].value_counts()"
      ]
    },
    {
      "cell_type": "code",
      "execution_count": 89,
      "metadata": {
        "id": "ZaQKQ1zEjP15",
        "outputId": "18bb567c-5ec7-4029-cb0d-702df802f7fd"
      },
      "outputs": [
        {
          "data": {
            "text/html": [
              "<div>\n",
              "<style scoped>\n",
              "    .dataframe tbody tr th:only-of-type {\n",
              "        vertical-align: middle;\n",
              "    }\n",
              "\n",
              "    .dataframe tbody tr th {\n",
              "        vertical-align: top;\n",
              "    }\n",
              "\n",
              "    .dataframe thead th {\n",
              "        text-align: right;\n",
              "    }\n",
              "</style>\n",
              "<table border=\"1\" class=\"dataframe\">\n",
              "  <thead>\n",
              "    <tr style=\"text-align: right;\">\n",
              "      <th></th>\n",
              "      <th>UserName</th>\n",
              "      <th>ScreenName</th>\n",
              "      <th>Location</th>\n",
              "      <th>TweetAt</th>\n",
              "      <th>OriginalTweet</th>\n",
              "      <th>Sentiment</th>\n",
              "    </tr>\n",
              "  </thead>\n",
              "  <tbody>\n",
              "    <tr>\n",
              "      <th>0</th>\n",
              "      <td>3800</td>\n",
              "      <td>48752</td>\n",
              "      <td>UK</td>\n",
              "      <td>16-03-2020</td>\n",
              "      <td>advice Talk to your neighbours family to excha...</td>\n",
              "      <td>1</td>\n",
              "    </tr>\n",
              "    <tr>\n",
              "      <th>1</th>\n",
              "      <td>3801</td>\n",
              "      <td>48753</td>\n",
              "      <td>Vagabonds</td>\n",
              "      <td>16-03-2020</td>\n",
              "      <td>Coronavirus Australia: Woolworths to give elde...</td>\n",
              "      <td>1</td>\n",
              "    </tr>\n",
              "    <tr>\n",
              "      <th>2</th>\n",
              "      <td>3802</td>\n",
              "      <td>48754</td>\n",
              "      <td>NaN</td>\n",
              "      <td>16-03-2020</td>\n",
              "      <td>My food stock is not the only one which is emp...</td>\n",
              "      <td>1</td>\n",
              "    </tr>\n",
              "    <tr>\n",
              "      <th>3</th>\n",
              "      <td>3803</td>\n",
              "      <td>48755</td>\n",
              "      <td>NaN</td>\n",
              "      <td>16-03-2020</td>\n",
              "      <td>Me, ready to go at supermarket during the #COV...</td>\n",
              "      <td>0</td>\n",
              "    </tr>\n",
              "    <tr>\n",
              "      <th>4</th>\n",
              "      <td>3804</td>\n",
              "      <td>48756</td>\n",
              "      <td>ÃÂT: 36.319708,-82.363649</td>\n",
              "      <td>16-03-2020</td>\n",
              "      <td>As news of the regionÃÂs first confirmed COV...</td>\n",
              "      <td>1</td>\n",
              "    </tr>\n",
              "  </tbody>\n",
              "</table>\n",
              "</div>"
            ],
            "text/plain": [
              "   UserName  ScreenName                     Location     TweetAt  \\\n",
              "0      3800       48752                           UK  16-03-2020   \n",
              "1      3801       48753                    Vagabonds  16-03-2020   \n",
              "2      3802       48754                          NaN  16-03-2020   \n",
              "3      3803       48755                          NaN  16-03-2020   \n",
              "4      3804       48756  ÃÂT: 36.319708,-82.363649  16-03-2020   \n",
              "\n",
              "                                       OriginalTweet  Sentiment  \n",
              "0  advice Talk to your neighbours family to excha...          1  \n",
              "1  Coronavirus Australia: Woolworths to give elde...          1  \n",
              "2  My food stock is not the only one which is emp...          1  \n",
              "3  Me, ready to go at supermarket during the #COV...          0  \n",
              "4  As news of the regionÃÂs first confirmed COV...          1  "
            ]
          },
          "execution_count": 89,
          "metadata": {},
          "output_type": "execute_result"
        }
      ],
      "source": [
        "df['Sentiment'] = df['Sentiment'].map({'Positive': 1, 'Negative': 0, 'Extremely Positive': 1, 'Extremely Negative': 0})\n",
        "df.head()"
      ]
    },
    {
      "cell_type": "markdown",
      "metadata": {
        "id": "pGq1FxJ-kBo5"
      },
      "source": [
        "Сбалансированы ли классы?"
      ]
    },
    {
      "cell_type": "code",
      "execution_count": 90,
      "metadata": {
        "id": "KHXtoNwnW9Fp",
        "outputId": "e5be948c-3346-4d97-a332-4e049b690003"
      },
      "outputs": [
        {
          "data": {
            "text/plain": [
              "array([18046, 15398])"
            ]
          },
          "execution_count": 90,
          "metadata": {},
          "output_type": "execute_result"
        }
      ],
      "source": [
        "df['Sentiment'].value_counts().values"
      ]
    },
    {
      "cell_type": "code",
      "execution_count": 91,
      "metadata": {
        "id": "a7gdNtxckK5V",
        "outputId": "fea3e42f-1fea-42b2-b1b3-312febd08768"
      },
      "outputs": [
        {
          "data": {
            "image/png": "[encoded data removed]",
            "text/plain": [
              "<Figure size 640x480 with 1 Axes>"
            ]
          },
          "metadata": {},
          "output_type": "display_data"
        }
      ],
      "source": [
        "plt.pie(x=df['Sentiment'].value_counts().values,labels=df['Sentiment'].value_counts().index, autopct='%1.1f%%');"
      ]
    },
    {
      "cell_type": "markdown",
      "metadata": {
        "id": "Ng8BCelMkWb0"
      },
      "source": [
        "**Ответ:** Можно сказать, что классы не идеально сбалансированы, но явного дисбаланса нет"
      ]
    },
    {
      "cell_type": "markdown",
      "metadata": {
        "id": "qmSIBSsLk5Zz"
      },
      "source": [
        "Выведете на экран информацию о пропусках в данных. Если пропуски присутствуют заполните их строкой 'Unknown'."
      ]
    },
    {
      "cell_type": "code",
      "execution_count": 92,
      "metadata": {
        "id": "UhUVRkR5kxa7",
        "outputId": "b79fabcc-c62f-48ab-ddc3-20c6047f9ba9"
      },
      "outputs": [
        {
          "data": {
            "text/plain": [
              "UserName            0\n",
              "ScreenName          0\n",
              "Location         7049\n",
              "TweetAt             0\n",
              "OriginalTweet       0\n",
              "Sentiment           0\n",
              "dtype: int64"
            ]
          },
          "execution_count": 92,
          "metadata": {},
          "output_type": "execute_result"
        }
      ],
      "source": [
        "df.isnull().sum()"
      ]
    },
    {
      "cell_type": "code",
      "execution_count": 93,
      "metadata": {
        "id": "Kwb3HgocW9Fr",
        "outputId": "62a845ee-7d07-483e-c45a-85c329abb85d"
      },
      "outputs": [
        {
          "data": {
            "text/plain": [
              "UserName         0\n",
              "ScreenName       0\n",
              "Location         0\n",
              "TweetAt          0\n",
              "OriginalTweet    0\n",
              "Sentiment        0\n",
              "dtype: int64"
            ]
          },
          "execution_count": 93,
          "metadata": {},
          "output_type": "execute_result"
        }
      ],
      "source": [
        "df['Location'] = df['Location'].fillna('Unknown')\n",
        "df.isnull().sum()"
      ]
    },
    {
      "cell_type": "markdown",
      "metadata": {
        "id": "1tzt27tfjUpq"
      },
      "source": [
        "Разделите данные на обучающие и тестовые в соотношении 7 : 3 и `random_state=0`"
      ]
    },
    {
      "cell_type": "code",
      "execution_count": null,
      "metadata": {
        "id": "xSLOA9tIj9Z6"
      },
      "outputs": [],
      "source": [
        "from sklearn.model_selection import train_test_split\n",
        "\n",
        "om_train, test = train_test_split(df, test_size=0.3, randstate=0)"
      ]
    },
    {
      "cell_type": "markdown",
      "metadata": {
        "id": "J9RrPUsJlL60"
      },
      "source": [
        "## Задание 2 Токенизация (3 балла)"
      ]
    },
    {
      "cell_type": "markdown",
      "metadata": {
        "id": "2Dz_b7Xopc_R"
      },
      "source": [
        "Постройте словарь на основе обучающей выборки и посчитайте количество встреч каждого токена с использованием самой простой токенизации - деления текстов по пробельным символам и приведение токенов в нижний регистр"
      ]
    },
    {
      "cell_type": "code",
      "execution_count": 34,
      "metadata": {
        "id": "bP89HNHkW9Fs",
        "outputId": "fab89aec-5c58-4a2a-9195-fd0d55dc70dc"
      },
      "outputs": [
        {
          "data": {
            "text/plain": [
              "Counter({'the': 26815,\n",
              "         'to': 23373,\n",
              "         'and': 14684,\n",
              "         'of': 13012,\n",
              "         'a': 11737,\n",
              "         'in': 11198,\n",
              "         'for': 8566,\n",
              "         '#coronavirus': 8223,\n",
              "         'is': 7383,\n",
              "         'are': 7050,\n",
              "         'you': 5467,\n",
              "         'on': 5452,\n",
              "         'i': 5340,\n",
              "         'at': 4642,\n",
              "         'this': 4581,\n",
              "         'with': 4063,\n",
              "         'prices': 3891,\n",
              "         'food': 3820,\n",
              "         'we': 3787,\n",
              "         'have': 3770,\n",
              "         'that': 3741,\n",
              "         'as': 3694,\n",
              "         'be': 3570,\n",
              "         'grocery': 3469,\n",
              "         'supermarket': 3288,\n",
              "         'people': 3175,\n",
              "         'covid-19': 3173,\n",
              "         'store': 3155,\n",
              "         'it': 3150,\n",
              "         'from': 3045,\n",
              "         'all': 2808,\n",
              "         'your': 2784,\n",
              "         'will': 2726,\n",
              "         'not': 2714,\n",
              "         '#covid19': 2471,\n",
              "         'our': 2460,\n",
              "         'my': 2445,\n",
              "         '&amp;': 2314,\n",
              "         'they': 2309,\n",
              "         'has': 2304,\n",
              "         'consumer': 2245,\n",
              "         'by': 2236,\n",
              "         'or': 2234,\n",
              "         'can': 2202,\n",
              "         'but': 2159,\n",
              "         'if': 2142,\n",
              "         '19': 2111,\n",
              "         'out': 2026,\n",
              "         'more': 2008,\n",
              "         'up': 1987,\n",
              "         'their': 1972,\n",
              "         'during': 1908,\n",
              "         'no': 1898,\n",
              "         'how': 1850,\n",
              "         'so': 1837,\n",
              "         'covid': 1769,\n",
              "         'get': 1759,\n",
              "         'about': 1726,\n",
              "         'who': 1670,\n",
              "         '#covid_19': 1660,\n",
              "         'online': 1648,\n",
              "         'shopping': 1621,\n",
              "         'like': 1550,\n",
              "         'need': 1549,\n",
              "         'what': 1541,\n",
              "         'just': 1540,\n",
              "         'panic': 1495,\n",
              "         '-': 1429,\n",
              "         'an': 1417,\n",
              "         'was': 1384,\n",
              "         'hand': 1382,\n",
              "         'do': 1353,\n",
              "         'now': 1349,\n",
              "         'demand': 1345,\n",
              "         'when': 1343,\n",
              "         '?': 1320,\n",
              "         'some': 1320,\n",
              "         'help': 1282,\n",
              "         'us': 1247,\n",
              "         'go': 1245,\n",
              "         'workers': 1242,\n",
              "         'there': 1219,\n",
              "         'going': 1141,\n",
              "         'time': 1136,\n",
              "         's': 1108,\n",
              "         'been': 1081,\n",
              "         'one': 1074,\n",
              "         'sanitizer': 1064,\n",
              "         'stock': 1063,\n",
              "         'please': 1061,\n",
              "         'due': 1059,\n",
              "         'pandemic': 1026,\n",
              "         'coronavirus': 970,\n",
              "         'home': 959,\n",
              "         'these': 922,\n",
              "         'me': 920,\n",
              "         '#covid2019': 915,\n",
              "         'buying': 911,\n",
              "         'because': 902,\n",
              "         'oil': 900,\n",
              "         'stay': 895,\n",
              "         'than': 891,\n",
              "         'other': 890,\n",
              "         'after': 886,\n",
              "         'new': 885,\n",
              "         'should': 875,\n",
              "         'amp': 859,\n",
              "         'keep': 857,\n",
              "         'only': 851,\n",
              "         'being': 827,\n",
              "         'toilet': 824,\n",
              "         'local': 821,\n",
              "         'many': 819,\n",
              "         'work': 819,\n",
              "         'make': 811,\n",
              "         'them': 799,\n",
              "         'those': 789,\n",
              "         'over': 786,\n",
              "         'still': 763,\n",
              "         'see': 756,\n",
              "         'buy': 748,\n",
              "         'stop': 730,\n",
              "         'would': 730,\n",
              "         'crisis': 713,\n",
              "         'shelves': 709,\n",
              "         'take': 701,\n",
              "         '#toiletpaper': 691,\n",
              "         'via': 687,\n",
              "         'delivery': 686,\n",
              "         'even': 682,\n",
              "         'its': 674,\n",
              "         'here': 669,\n",
              "         'into': 666,\n",
              "         'supply': 662,\n",
              "         'had': 660,\n",
              "         'why': 654,\n",
              "         't': 648,\n",
              "         'stores': 648,\n",
              "         'know': 641,\n",
              "         'could': 640,\n",
              "         'while': 638,\n",
              "         'also': 635,\n",
              "         'any': 624,\n",
              "         'social': 615,\n",
              "         'retail': 610,\n",
              "         'down': 609,\n",
              "         'thank': 604,\n",
              "         'everyone': 600,\n",
              "         'working': 594,\n",
              "         'paper': 587,\n",
              "         'good': 586,\n",
              "         '2': 582,\n",
              "         'price': 581,\n",
              "         'use': 572,\n",
              "         \"it's\": 571,\n",
              "         'were': 566,\n",
              "         'amid': 556,\n",
              "         \"don't\": 551,\n",
              "         'most': 548,\n",
              "         'think': 545,\n",
              "         'health': 540,\n",
              "         'he': 533,\n",
              "         'may': 525,\n",
              "         'today': 524,\n",
              "         'day': 521,\n",
              "         'staff': 521,\n",
              "         'spread': 514,\n",
              "         'every': 509,\n",
              "         'doing': 508,\n",
              "         'which': 504,\n",
              "         'essential': 496,\n",
              "         'want': 487,\n",
              "         'safe': 487,\n",
              "         'way': 484,\n",
              "         'much': 482,\n",
              "         '??': 482,\n",
              "         'virus': 480,\n",
              "         'support': 477,\n",
              "         'first': 475,\n",
              "         'off': 472,\n",
              "         'shop': 471,\n",
              "         'government': 468,\n",
              "         'free': 467,\n",
              "         'covid-19.': 465,\n",
              "         'market': 463,\n",
              "         'last': 462,\n",
              "         'itã\\x82â\\x92s': 459,\n",
              "         'where': 456,\n",
              "         'right': 455,\n",
              "         '.': 454,\n",
              "         'customers': 451,\n",
              "         'business': 445,\n",
              "         'global': 444,\n",
              "         'masks': 442,\n",
              "         'items': 439,\n",
              "         'impact': 438,\n",
              "         'world': 437,\n",
              "         'then': 435,\n",
              "         'before': 433,\n",
              "         'find': 431,\n",
              "         'back': 430,\n",
              "         'products': 427,\n",
              "         'through': 427,\n",
              "         '#socialdistancing': 427,\n",
              "         'am': 424,\n",
              "         '#coronacrisis': 423,\n",
              "         'read': 420,\n",
              "         'very': 418,\n",
              "         '#covid?19': 418,\n",
              "         'getting': 415,\n",
              "         'employees': 415,\n",
              "         'donã\\x82â\\x92t': 414,\n",
              "         'iã\\x82â\\x92m': 414,\n",
              "         'outbreak': 412,\n",
              "         'great': 409,\n",
              "         'high': 408,\n",
              "         'got': 407,\n",
              "         'empty': 407,\n",
              "         'low': 407,\n",
              "         'making': 404,\n",
              "         'face': 402,\n",
              "         'care': 401,\n",
              "         'really': 400,\n",
              "         'risk': 397,\n",
              "         \"i'm\": 397,\n",
              "         'week': 396,\n",
              "         'companies': 393,\n",
              "         'around': 391,\n",
              "         'supplies': 387,\n",
              "         'public': 386,\n",
              "         'said': 386,\n",
              "         'went': 378,\n",
              "         'her': 377,\n",
              "         'his': 377,\n",
              "         'times': 372,\n",
              "         'since': 369,\n",
              "         'says': 369,\n",
              "         '3': 364,\n",
              "         'gas': 361,\n",
              "         'she': 361,\n",
              "         'say': 350,\n",
              "         'taking': 349,\n",
              "         'store.': 348,\n",
              "         'increase': 348,\n",
              "         'next': 347,\n",
              "         'against': 347,\n",
              "         'well': 346,\n",
              "         'look': 344,\n",
              "         'businesses': 342,\n",
              "         'put': 342,\n",
              "         'protect': 340,\n",
              "         '1': 340,\n",
              "         'enough': 337,\n",
              "         'order': 337,\n",
              "         'things': 336,\n",
              "         'prices.': 332,\n",
              "         'two': 331,\n",
              "         'fight': 330,\n",
              "         'mask': 330,\n",
              "         'supermarkets': 330,\n",
              "         'pay': 329,\n",
              "         're': 328,\n",
              "         'lockdown': 326,\n",
              "         'days': 325,\n",
              "         'long': 323,\n",
              "         'anyone': 322,\n",
              "         'country': 321,\n",
              "         'across': 318,\n",
              "         'few': 317,\n",
              "         'increased': 317,\n",
              "         'best': 315,\n",
              "         'money': 315,\n",
              "         'weeks': 312,\n",
              "         'full': 312,\n",
              "         'covid-19,': 311,\n",
              "         'must': 309,\n",
              "         'consumers': 307,\n",
              "         'trying': 307,\n",
              "         'service': 305,\n",
              "         'distancing': 305,\n",
              "         'news': 304,\n",
              "         'hands': 303,\n",
              "         'medical': 303,\n",
              "         'never': 303,\n",
              "         'check': 302,\n",
              "         'without': 301,\n",
              "         'others': 300,\n",
              "         'come': 300,\n",
              "         'big': 296,\n",
              "         'economic': 292,\n",
              "         'line': 291,\n",
              "         'sure': 288,\n",
              "         'too': 288,\n",
              "         \"can't\": 286,\n",
              "         'open': 286,\n",
              "         'available': 285,\n",
              "         'give': 284,\n",
              "         'everything': 280,\n",
              "         'workers,': 280,\n",
              "         'uk': 280,\n",
              "         'shops': 279,\n",
              "         '|': 279,\n",
              "         'response': 278,\n",
              "         'let': 278,\n",
              "         'chain': 277,\n",
              "         'pandemic.': 277,\n",
              "         'needs': 276,\n",
              "         'call': 276,\n",
              "         'thanks': 275,\n",
              "         'vulnerable': 275,\n",
              "         'using': 272,\n",
              "         'such': 269,\n",
              "         'report': 268,\n",
              "         'avoid': 268,\n",
              "         'better': 267,\n",
              "         'emergency': 267,\n",
              "         'important': 266,\n",
              "         'already': 266,\n",
              "         'hope': 265,\n",
              "         'march': 265,\n",
              "         'services': 263,\n",
              "         'family': 263,\n",
              "         'hours': 263,\n",
              "         'lot': 262,\n",
              "         'continue': 261,\n",
              "         'made': 261,\n",
              "         'small': 260,\n",
              "         'each': 260,\n",
              "         'seen': 258,\n",
              "         'having': 257,\n",
              "         'same': 256,\n",
              "         'thing': 256,\n",
              "         'hard': 256,\n",
              "         'share': 254,\n",
              "         'don': 251,\n",
              "         'state': 250,\n",
              "         'close': 250,\n",
              "         'able': 249,\n",
              "         'per': 246,\n",
              "         'another': 246,\n",
              "         'elderly': 246,\n",
              "         'did': 245,\n",
              "         '#coronaviruspandemic': 245,\n",
              "         'economy': 244,\n",
              "         'life': 244,\n",
              "         'banks': 244,\n",
              "         'canã\\x82â\\x92t': 243,\n",
              "         'goods': 243,\n",
              "         'community': 243,\n",
              "         'job': 242,\n",
              "         'does': 241,\n",
              "         'under': 239,\n",
              "         'looking': 238,\n",
              "         'live': 236,\n",
              "         'drop': 235,\n",
              "         'own': 234,\n",
              "         'industry': 234,\n",
              "         'financial': 233,\n",
              "         '#pandemic': 232,\n",
              "         'front': 231,\n",
              "         'house': 231,\n",
              "         'positive': 231,\n",
              "         '#stayhome': 229,\n",
              "         'leave': 229,\n",
              "         'trump': 228,\n",
              "         '#coronavirus.': 228,\n",
              "         '4': 227,\n",
              "         'current': 226,\n",
              "         'someone': 226,\n",
              "         'part': 225,\n",
              "         'least': 222,\n",
              "         'selling': 222,\n",
              "         'learn': 220,\n",
              "         '#coronavirusoutbreak': 218,\n",
              "         'production': 217,\n",
              "         'scams': 217,\n",
              "         'told': 216,\n",
              "         'gloves': 216,\n",
              "         'coming': 216,\n",
              "         'real': 216,\n",
              "         'cases': 215,\n",
              "         'seeing': 214,\n",
              "         'healthcare': 214,\n",
              "         'safety': 214,\n",
              "         'cut': 214,\n",
              "         'hit': 214,\n",
              "         'u': 214,\n",
              "         'helping': 213,\n",
              "         'food.': 213,\n",
              "         'less': 212,\n",
              "         'wash': 212,\n",
              "         '10': 212,\n",
              "         'left': 211,\n",
              "         'markets': 211,\n",
              "         '2020': 211,\n",
              "         'bank': 211,\n",
              "         'shoppers': 211,\n",
              "         'self': 210,\n",
              "         'feel': 210,\n",
              "         'hoarding': 210,\n",
              "         'might': 210,\n",
              "         'little': 208,\n",
              "         '#corona': 208,\n",
              "         'retailers': 207,\n",
              "         'person': 207,\n",
              "         'meet': 207,\n",
              "         'keeping': 206,\n",
              "         'sales': 206,\n",
              "         'key': 206,\n",
              "         'latest': 206,\n",
              "         'post': 205,\n",
              "         'supermarket.': 204,\n",
              "         'it.': 204,\n",
              "         'something': 203,\n",
              "         'together': 203,\n",
              "         'closed': 202,\n",
              "         'measures': 202,\n",
              "         'start': 201,\n",
              "         'away': 201,\n",
              "         'now.': 201,\n",
              "         'place': 200,\n",
              "         '#lockdown': 199,\n",
              "         'store,': 196,\n",
              "         '#supermarket': 196,\n",
              "         'information': 196,\n",
              "         'end': 196,\n",
              "         'access': 195,\n",
              "         'water': 194,\n",
              "         'tips': 194,\n",
              "         '#stayathome': 194,\n",
              "         'situation': 194,\n",
              "         'join': 193,\n",
              "         'daily': 192,\n",
              "         '#covid': 192,\n",
              "         '#covid-19': 191,\n",
              "         'wearing': 190,\n",
              "         'groceries': 190,\n",
              "         'remember': 190,\n",
              "         'until': 190,\n",
              "         'else': 189,\n",
              "         '#stayhomesavelives': 189,\n",
              "         'nothing': 188,\n",
              "         '#panicbuying': 188,\n",
              "         'drivers': 188,\n",
              "         'done': 187,\n",
              "         ',': 187,\n",
              "         'prices,': 187,\n",
              "         'man': 187,\n",
              "         'run': 186,\n",
              "         '#stophoarding': 186,\n",
              "         'food,': 186,\n",
              "         'data': 184,\n",
              "         'thought': 184,\n",
              "         '#quarantine': 184,\n",
              "         'sick': 183,\n",
              "         'wear': 182,\n",
              "         '???': 182,\n",
              "         'running': 182,\n",
              "         'year': 182,\n",
              "         'number': 182,\n",
              "         'company': 182,\n",
              "         'protection': 182,\n",
              "         'police': 181,\n",
              "         '#retail': 180,\n",
              "         'contact': 180,\n",
              "         'ever': 179,\n",
              "         '5': 179,\n",
              "         'used': 178,\n",
              "         'try': 176,\n",
              "         'jobs': 176,\n",
              "         \"you're\": 176,\n",
              "         'affected': 175,\n",
              "         'advantage': 174,\n",
              "         'change': 174,\n",
              "         'bad': 174,\n",
              "         'china': 174,\n",
              "         'lower': 174,\n",
              "         'special': 174,\n",
              "         'list': 173,\n",
              "         'including': 173,\n",
              "         'fall': 173,\n",
              "         'ensure': 173,\n",
              "         'spending': 171,\n",
              "         'likely': 170,\n",
              "         'found': 169,\n",
              "         'families': 169,\n",
              "         'provide': 169,\n",
              "         \"we're\": 168,\n",
              "         'corona': 168,\n",
              "         'related': 167,\n",
              "         'putting': 166,\n",
              "         'reports': 166,\n",
              "         'nhs': 164,\n",
              "         'always': 164,\n",
              "         'april': 163,\n",
              "         'bought': 163,\n",
              "         'shortage': 163,\n",
              "         'crisis.': 162,\n",
              "         'old': 162,\n",
              "         'higher': 162,\n",
              "         'offering': 162,\n",
              "         'fresh': 162,\n",
              "         'especially': 161,\n",
              "         'soap': 161,\n",
              "         'visit': 161,\n",
              "         'supermarket,': 161,\n",
              "         'relief': 161,\n",
              "         'americans': 159,\n",
              "         'worker': 159,\n",
              "         'tested': 159,\n",
              "         'lives': 159,\n",
              "         'time.': 158,\n",
              "         '#food': 158,\n",
              "         \"i've\": 157,\n",
              "         'critical': 156,\n",
              "         'media': 155,\n",
              "         'caused': 155,\n",
              "         'quarantine': 154,\n",
              "         '20': 154,\n",
              "         'yet': 154,\n",
              "         'behavior': 154,\n",
              "         'saying': 153,\n",
              "         'watch': 153,\n",
              "         'save': 153,\n",
              "         'normal': 153,\n",
              "         'video': 152,\n",
              "         'between': 152,\n",
              "         'prevent': 152,\n",
              "         'major': 152,\n",
              "         'once': 152,\n",
              "         '#covid19uk': 152,\n",
              "         'understand': 151,\n",
              "         'outside': 151,\n",
              "         '@realdonaldtrump': 151,\n",
              "         '#coronavirusupdate': 151,\n",
              "         'selfish': 151,\n",
              "         'amazon': 151,\n",
              "         'almost': 151,\n",
              "         'remain': 150,\n",
              "         'paid': 150,\n",
              "         'saw': 150,\n",
              "         'youã\\x82â\\x92re': 150,\n",
              "         'actually': 149,\n",
              "         'drive': 149,\n",
              "         'following': 149,\n",
              "         'reduce': 149,\n",
              "         'farmers': 149,\n",
              "         'far': 148,\n",
              "         'needed': 148,\n",
              "         'lines': 148,\n",
              "         'works': 148,\n",
              "         'm': 148,\n",
              "         'huge': 148,\n",
              "         'cannot': 147,\n",
              "         'chains': 147,\n",
              "         'instead': 147,\n",
              "         'yourself': 147,\n",
              "         'essentials': 147,\n",
              "         'despite': 147,\n",
              "         'sell': 147,\n",
              "         'rise': 147,\n",
              "         'govt': 147,\n",
              "         'produce': 147,\n",
              "         'set': 146,\n",
              "         'struggling': 146,\n",
              "         'years': 146,\n",
              "         'shortages': 146,\n",
              "         'love': 146,\n",
              "         '6': 146,\n",
              "         'credit': 146,\n",
              "         '...': 146,\n",
              "         'home.': 145,\n",
              "         'top': 145,\n",
              "         'morning': 144,\n",
              "         'result': 144,\n",
              "         'follow': 144,\n",
              "         'possible': 143,\n",
              "         'lost': 143,\n",
              "         'ã\\x82â\\x96': 143,\n",
              "         'city': 143,\n",
              "         'fear': 143,\n",
              "         'ã\\x82â\\x97': 141,\n",
              "         'difficult': 140,\n",
              "         'given': 140,\n",
              "         '#staysafe': 140,\n",
              "         'soon': 140,\n",
              "         'tell': 139,\n",
              "         'pandemic,': 139,\n",
              "         'become': 138,\n",
              "         'whole': 138,\n",
              "         'stocked': 138,\n",
              "         'sanitizers': 138,\n",
              "         'deal': 138,\n",
              "         'facing': 138,\n",
              "         'bring': 137,\n",
              "         'iã\\x82â\\x92ve': 137,\n",
              "         'shut': 136,\n",
              "         'alcohol': 136,\n",
              "         'roll': 136,\n",
              "         'travel': 135,\n",
              "         'show': 135,\n",
              "         've': 135,\n",
              "         'covid-19:': 134,\n",
              "         'staying': 134,\n",
              "         'months': 134,\n",
              "         'here:': 134,\n",
              "         'sanitizer,': 134,\n",
              "         'ask': 133,\n",
              "         '#oil': 133,\n",
              "         'changes': 133,\n",
              "         'advice': 133,\n",
              "         'system': 132,\n",
              "         'anything': 132,\n",
              "         'again': 132,\n",
              "         'friends': 132,\n",
              "         'maybe': 132,\n",
              "         'die': 132,\n",
              "         'restaurants': 131,\n",
              "         'announced': 131,\n",
              "         '#stoppanicbuying': 130,\n",
              "         'today.': 130,\n",
              "         'extra': 130,\n",
              "         'means': 130,\n",
              "         'brands': 130,\n",
              "         'million': 130,\n",
              "         'customer': 129,\n",
              "         'milk': 129,\n",
              "         'taken': 129,\n",
              "         'weã\\x82â\\x92re': 129,\n",
              "         'heroes': 129,\n",
              "         'u.s.': 129,\n",
              "         'outbreak.': 129,\n",
              "         'fucking': 128,\n",
              "         'giving': 128,\n",
              "         'war': 128,\n",
              "         'cause': 128,\n",
              "         'testing': 128,\n",
              "         'orders': 128,\n",
              "         'worried': 127,\n",
              "         'woman': 126,\n",
              "         'india': 126,\n",
              "         '#handsanitizer': 126,\n",
              "         'test': 126,\n",
              "         'eat': 125,\n",
              "         'area': 125,\n",
              "         'month': 125,\n",
              "         'early': 125,\n",
              "         'currently': 124,\n",
              "         'kind': 124,\n",
              "         'security': 124,\n",
              "         'fuel': 124,\n",
              "         'limit': 124,\n",
              "         'cash': 124,\n",
              "         'below': 124,\n",
              "         'national': 123,\n",
              "         'different': 123,\n",
              "         'personal': 123,\n",
              "         'case': 123,\n",
              "         'etc': 123,\n",
              "         'story': 122,\n",
              "         'consider': 122,\n",
              "         'asked': 122,\n",
              "         'doctors': 122,\n",
              "         'plenty': 122,\n",
              "         'healthy': 122,\n",
              "         'gone': 122,\n",
              "         'three': 122,\n",
              "         'allow': 122,\n",
              "         '#shopping': 121,\n",
              "         'increasing': 121,\n",
              "         'sold': 121,\n",
              "         \"that's\": 121,\n",
              "         'shit': 121,\n",
              "         'further': 121,\n",
              "         'surge': 121,\n",
              "         'meat': 121,\n",
              "         'kids': 121,\n",
              "         'recent': 121,\n",
              "         'ppl': 120,\n",
              "         'distance': 120,\n",
              "         'hospital': 120,\n",
              "         'spreading': 120,\n",
              "         'control': 120,\n",
              "         'donate': 120,\n",
              "         'clean': 120,\n",
              "         'fighting': 120,\n",
              "         'asking': 119,\n",
              "         'fears': 119,\n",
              "         'him': 119,\n",
              "         'basic': 119,\n",
              "         'both': 118,\n",
              "         'drug': 118,\n",
              "         'survive': 118,\n",
              "         'gonna': 118,\n",
              "         'cost': 118,\n",
              "         'mean': 118,\n",
              "         'died': 117,\n",
              "         'point': 117,\n",
              "         'you.': 117,\n",
              "         'etc.': 117,\n",
              "         'car': 116,\n",
              "         'themselves': 116,\n",
              "         'gouging': 116,\n",
              "         'crazy': 116,\n",
              "         'based': 116,\n",
              "         'providing': 116,\n",
              "         'purchase': 116,\n",
              "         'waiting': 115,\n",
              "         'pharmacy': 115,\n",
              "         'goes': 115,\n",
              "         'shift': 115,\n",
              "         'cleaning': 115,\n",
              "         'employee': 114,\n",
              "         'makes': 114,\n",
              "         'bit': 114,\n",
              "         'falling': 114,\n",
              "         'countries': 114,\n",
              "         'people.': 113,\n",
              "         'scammers': 113,\n",
              "         'yesterday': 113,\n",
              "         \"won't\": 113,\n",
              "         '100': 113,\n",
              "         '#coronavirus,': 113,\n",
              "         'past': 113,\n",
              "         '#sanitizer': 113,\n",
              "         'out.': 113,\n",
              "         'ways': 113,\n",
              "         'wait': 113,\n",
              "         '#quarantinelife': 112,\n",
              "         'send': 112,\n",
              "         'article': 112,\n",
              "         'shows': 112,\n",
              "         'kill': 112,\n",
              "         'isolation': 112,\n",
              "         'fuck': 112,\n",
              "         'them.': 112,\n",
              "         '@': 111,\n",
              "         'forced': 111,\n",
              "         'hour': 111,\n",
              "         'offer': 111,\n",
              "         'confidence': 110,\n",
              "         'crude': 110,\n",
              "         'trip': 109,\n",
              "         'product': 109,\n",
              "         '+': 109,\n",
              "         'pick': 109,\n",
              "         'believe': 108,\n",
              "         'large': 108,\n",
              "         'moment': 108,\n",
              "         'ready': 107,\n",
              "         \"there's\": 107,\n",
              "         '#coronavirusuk': 107,\n",
              "         'update': 107,\n",
              "         'stuff': 106,\n",
              "         'sign': 106,\n",
              "         'hear': 106,\n",
              "         'members': 106,\n",
              "         'plan': 106,\n",
              "         'website': 106,\n",
              "         'states': 106,\n",
              "         'afford': 106,\n",
              "         'worth': 105,\n",
              "         'truck': 105,\n",
              "         'near': 105,\n",
              "         '@tesco': 105,\n",
              "         '/': 105,\n",
              "         'poor': 105,\n",
              "         'according': 105,\n",
              "         'probably': 105,\n",
              "         'longer': 104,\n",
              "         'president': 104,\n",
              "         'raise': 104,\n",
              "         'sector': 104,\n",
              "         'fast': 104,\n",
              "         'energy': 103,\n",
              "         'started': 103,\n",
              "         'household': 103,\n",
              "         'action': 103,\n",
              "         'comes': 103,\n",
              "         'demand.': 103,\n",
              "         '!': 103,\n",
              "         'act': 102,\n",
              "         'effects': 102,\n",
              "         'shopping.': 102,\n",
              "         'school': 102,\n",
              "         'calling': 102,\n",
              "         'info': 102,\n",
              "         'deliver': 102,\n",
              "         'closing': 102,\n",
              "         'sanitizer.': 101,\n",
              "         'staff,': 101,\n",
              "         'idea': 101,\n",
              "         'allowed': 101,\n",
              "         'happy': 101,\n",
              "         'living': 100,\n",
              "         'trade': 100,\n",
              "         'group': 100,\n",
              "         \"they're\": 100,\n",
              "         'starting': 100,\n",
              "         'rather': 100,\n",
              "         'limited': 100,\n",
              "         'federal': 99,\n",
              "         \"here's\": 99,\n",
              "         'concerns': 99,\n",
              "         'came': 99,\n",
              "         '7': 99,\n",
              "         'changing': 99,\n",
              "         'ones': 99,\n",
              "         'nice': 99,\n",
              "         'looks': 99,\n",
              "         'called': 99,\n",
              "         'thinking': 98,\n",
              "         'amount': 98,\n",
              "         'reduced': 98,\n",
              "         'friend': 98,\n",
              "         'home,': 98,\n",
              "         'lots': 98,\n",
              "         'clear': 97,\n",
              "         'experts': 97,\n",
              "         'buyers': 97,\n",
              "         'chinese': 97,\n",
              "         'team': 97,\n",
              "         'seems': 97,\n",
              "         'biggest': 97,\n",
              "         'now,': 97,\n",
              "         'human': 97,\n",
              "         \"let's\": 97,\n",
              "         'ceo': 97,\n",
              "         'nurses': 97,\n",
              "         'inflated': 96,\n",
              "         'dear': 96,\n",
              "         'short': 96,\n",
              "         'expect': 96,\n",
              "         'gets': 96,\n",
              "         'ã\\x82â\\x95': 96,\n",
              "         'america': 96,\n",
              "         'seriously': 96,\n",
              "         'took': 95,\n",
              "         'period': 95,\n",
              "         '000': 95,\n",
              "         'general': 94,\n",
              "         \"doesn't\": 94,\n",
              "         'forget': 94,\n",
              "         'up.': 94,\n",
              "         'rolls': 94,\n",
              "         'office': 94,\n",
              "         'certain': 94,\n",
              "         'deliveries': 94,\n",
              "         'strong': 93,\n",
              "         'american': 93,\n",
              "         'washing': 93,\n",
              "         'guys': 93,\n",
              "         'email': 93,\n",
              "         'thatã\\x82â\\x92s': 93,\n",
              "         'massive': 93,\n",
              "         'folks': 93,\n",
              "         'several': 93,\n",
              "         'worse': 93,\n",
              "         'this.': 92,\n",
              "         'russia': 92,\n",
              "         '#consumer': 92,\n",
              "         'interesting': 92,\n",
              "         'nation': 92,\n",
              "         'pm': 92,\n",
              "         'expected': 92,\n",
              "         'continues': 92,\n",
              "         'workers.': 92,\n",
              "         'finally': 91,\n",
              "         'hiking': 91,\n",
              "         'paper,': 91,\n",
              "         '????': 91,\n",
              "         'serious': 91,\n",
              "         '8': 91,\n",
              "         'restrictions': 91,\n",
              "         'amazing': 91,\n",
              "         'queue': 91,\n",
              "         'anxiety': 90,\n",
              "         'among': 90,\n",
              "         'link': 90,\n",
              "         'n': 90,\n",
              "         'regarding': 90,\n",
              "         'bottle': 90,\n",
              "         'god': 90,\n",
              "         'wake': 90,\n",
              "         'message': 90,\n",
              "         'unprecedented': 89,\n",
              "         'hey': 89,\n",
              "         'frontline': 89,\n",
              "         'pretty': 89,\n",
              "         'more:': 89,\n",
              "         'slots': 89,\n",
              "         'shame': 89,\n",
              "         'calls': 89,\n",
              "         'infected': 89,\n",
              "         'reason': 89,\n",
              "         'wrong': 89,\n",
              "         'collapse': 89,\n",
              "         'issues': 89,\n",
              "         'rs': 89,\n",
              "         'thereã\\x82â\\x92s': 89,\n",
              "         'restaurant': 88,\n",
              "         \"isn't\": 88,\n",
              "         'behind': 88,\n",
              "         'bread': 88,\n",
              "         'nurse': 88,\n",
              "         'potential': 88,\n",
              "         'worst': 88,\n",
              "         'it,': 87,\n",
              "         'masks,': 87,\n",
              "         'walk': 87,\n",
              "         'ago': 87,\n",
              "         'couple': 87,\n",
              "         'crisis,': 87,\n",
              "         'single': 87,\n",
              "         'inside': 87,\n",
              "         'policy': 87,\n",
              "         'south': 87,\n",
              "         'talk': 87,\n",
              "         '15': 87,\n",
              "         'equipment': 86,\n",
              "         'drivers,': 86,\n",
              "         'death': 86,\n",
              "         'opening': 86,\n",
              "         \"didn't\": 86,\n",
              "         'wipes': 86,\n",
              "         'yes': 86,\n",
              "         'lack': 85,\n",
              "         'online.': 85,\n",
              "         'pasta': 85,\n",
              "         'showing': 85,\n",
              "         'sale': 85,\n",
              "         'light': 85,\n",
              "         'seniors': 85,\n",
              "         'takes': 85,\n",
              "         'growing': 84,\n",
              "         'donating': 84,\n",
              "         'donations': 84,\n",
              "         'citizens': 84,\n",
              "         '@sainsburys': 84,\n",
              "         'quick': 84,\n",
              "         'w': 84,\n",
              "         'resources': 84,\n",
              "         'appreciate': 84,\n",
              "         'waste': 84,\n",
              "         'efforts': 84,\n",
              "         'older': 84,\n",
              "         'beginning': 83,\n",
              "         '50': 83,\n",
              "         \"what's\": 83,\n",
              "         'phone': 83,\n",
              "         'future': 83,\n",
              "         'giant': 83,\n",
              "         'places': 82,\n",
              "         'bags': 82,\n",
              "         'worry': 82,\n",
              "         'shopping,': 82,\n",
              "         'step': 82,\n",
              "         'spend': 82,\n",
              "         'half': 82,\n",
              "         'hospitals': 81,\n",
              "         'theyã\\x82â\\x92re': 81,\n",
              "         'absolutely': 81,\n",
              "         'move': 81,\n",
              "         'wanted': 81,\n",
              "         '#grocery': 81,\n",
              "         'issue': 81,\n",
              "         'dont': 81,\n",
              "         'listen': 81,\n",
              "         'telling': 81,\n",
              "         'walmart': 81,\n",
              "         'county': 81,\n",
              "         'residents': 81,\n",
              "         'supporting': 81,\n",
              "         'practice': 80,\n",
              "         'necessary': 80,\n",
              "         'card': 80,\n",
              "         'today,': 80,\n",
              "         'create': 80,\n",
              "         ':': 80,\n",
              "         'saudi': 80,\n",
              "         'tomorrow': 80,\n",
              "         'feed': 80,\n",
              "         'value': 79,\n",
              "         'shelves.': 79,\n",
              "         '30': 79,\n",
              "         '#ecommerce': 79,\n",
              "         'common': 79,\n",
              "         'changed': 79,\n",
              "         'cure': 79,\n",
              "         '#coronavirususa': 79,\n",
              "         'pack': 79,\n",
              "         'thousands': 79,\n",
              "         'exposed': 79,\n",
              "         'force': 79,\n",
              "         'insights': 79,\n",
              "         'rising': 79,\n",
              "         '12': 78,\n",
              "         '@borisjohnson': 78,\n",
              "         'society': 78,\n",
              "         'head': 78,\n",
              "         ...})"
            ]
          },
          "execution_count": 34,
          "metadata": {},
          "output_type": "execute_result"
        }
      ],
      "source": [
        "from collections import Counter\n",
        "\n",
        "tokenizer = Counter(train['OriginalTweet'].str.lower().str.split().explode().to_list())\n",
        "tokenizer"
      ]
    },
    {
      "cell_type": "markdown",
      "metadata": {
        "id": "Pe0h2Jqkpnao"
      },
      "source": [
        "Какой размер словаря получился?"
      ]
    },
    {
      "cell_type": "code",
      "execution_count": 35,
      "metadata": {
        "id": "umyENA7EpokD",
        "outputId": "109e0c65-3c6d-4ae2-961f-5722cbddc83e"
      },
      "outputs": [
        {
          "data": {
            "text/plain": [
              "79755"
            ]
          },
          "execution_count": 35,
          "metadata": {},
          "output_type": "execute_result"
        }
      ],
      "source": [
        "len(tokenizer)"
      ]
    },
    {
      "cell_type": "markdown",
      "metadata": {
        "id": "0d2G1Z-Qpqkd"
      },
      "source": [
        "Выведите 10 самых популярных токенов с количеством встреч каждого из них. Объясните, почему именно эти токены в топе"
      ]
    },
    {
      "cell_type": "code",
      "execution_count": 36,
      "metadata": {
        "id": "Impi32a_pssg",
        "outputId": "55bb93ef-88a4-46e1-a0eb-1de9ef745250"
      },
      "outputs": [
        {
          "data": {
            "text/plain": [
              "[('the', 26815),\n",
              " ('to', 23373),\n",
              " ('and', 14684),\n",
              " ('of', 13012),\n",
              " ('a', 11737),\n",
              " ('in', 11198),\n",
              " ('for', 8566),\n",
              " ('#coronavirus', 8223),\n",
              " ('is', 7383),\n",
              " ('are', 7050)]"
            ]
          },
          "execution_count": 36,
          "metadata": {},
          "output_type": "execute_result"
        }
      ],
      "source": [
        "tokenizer.most_common(10)"
      ]
    },
    {
      "cell_type": "markdown",
      "metadata": {
        "id": "ZtuJCD0ApuFd"
      },
      "source": [
        "**Ответ:** Данные слова являются часто встрчаемыми, так как они они являются местоимениями, предлогами, артиклями, которые используется практически в каждом предложений. Также в этом списке присутствует глагол to be, который часто используется в обраовании предложений"
      ]
    },
    {
      "cell_type": "markdown",
      "metadata": {
        "id": "T7DTQDkWsVYp"
      },
      "source": [
        "Удалите стоп-слова из словаря и выведите новый топ-10 токенов (и количество встреч) по популярности.  Что можно сказать  о нем?"
      ]
    },
    {
      "cell_type": "code",
      "execution_count": 13,
      "metadata": {
        "id": "8csSAdgTsnFx",
        "outputId": "802a3c43-0f9a-4be2-e2b8-321ee103236b"
      },
      "outputs": [
        {
          "name": "stderr",
          "output_type": "stream",
          "text": [
            "[nltk_data] Downloading package stopwords to\n",
            "[nltk_data]     /Users/holodionov.sasha80mail.ru/nltk_data...\n",
            "[nltk_data]   Unzipping corpora/stopwords.zip.\n"
          ]
        },
        {
          "data": {
            "text/plain": [
              "True"
            ]
          },
          "execution_count": 13,
          "metadata": {},
          "output_type": "execute_result"
        }
      ],
      "source": [
        "import nltk\n",
        "import ssl\n",
        "try:\n",
        "    _create_unverified_https_context = ssl._create_unverified_context\n",
        "except AttributeError:\n",
        "    pass\n",
        "else:\n",
        "    ssl._create_default_https_context = _create_unverified_https_context\n",
        "nltk.download('stopwords')"
      ]
    },
    {
      "cell_type": "code",
      "execution_count": 37,
      "metadata": {
        "id": "xMjYNSO9W9Fu",
        "outputId": "b7cb92a4-ba85-4ba8-ed1c-32993ff592cb"
      },
      "outputs": [
        {
          "data": {
            "text/plain": [
              "[('#coronavirus', 8223),\n",
              " ('prices', 3891),\n",
              " ('food', 3820),\n",
              " ('grocery', 3469),\n",
              " ('supermarket', 3288),\n",
              " ('people', 3175),\n",
              " ('covid-19', 3173),\n",
              " ('store', 3155),\n",
              " ('#covid19', 2471),\n",
              " ('&amp;', 2314)]"
            ]
          },
          "execution_count": 37,
          "metadata": {},
          "output_type": "execute_result"
        }
      ],
      "source": [
        "from nltk.corpus import stopwords\n",
        "stop_words = stopwords.words('english')\n",
        "tokenizer = dict(tokenizer)\n",
        "result = dict()\n",
        "for word, cnt in tokenizer.items():\n",
        "    if word not in stop_words:\n",
        "        result[word] = cnt\n",
        "result = Counter(result)\n",
        "result.most_common(10)"
      ]
    },
    {
      "cell_type": "markdown",
      "metadata": {
        "id": "LZH0x2Lzs-Dh"
      },
      "source": [
        "**Ответ:** Теперь можем сделать вывод о том, что люди часто обсуждали короновирус, цены и магазины. В целом это логичные взаимосвязи для того времени"
      ]
    },
    {
      "cell_type": "markdown",
      "metadata": {
        "id": "TKSGRyI-uor0"
      },
      "source": [
        "Также выведите 20 самых непопулярных слов (если самых непопулярных слов больше выведите любые 20 из них) Почему эти токены непопулярны, требуется ли как-то дополнительно работать с ними?"
      ]
    },
    {
      "cell_type": "code",
      "execution_count": 38,
      "metadata": {
        "id": "moArbwfvun9t",
        "outputId": "3e7109eb-eb09-486b-8883-7dfe685d926f"
      },
      "outputs": [
        {
          "data": {
            "text/plain": [
              "[('https://t.co/7j2y3rsld9', 1),\n",
              " ('@680news', 1),\n",
              " ('@torontopearson', 1),\n",
              " ('nothing...', 1),\n",
              " ('flew', 1),\n",
              " ('wage!', 1),\n",
              " ('renewing', 1),\n",
              " ('playersã\\x82â\\x92', 1),\n",
              " ('subsidise', 1),\n",
              " ('non-playing', 1),\n",
              " ('premiership', 1),\n",
              " ('https://t.co/iaek4fwsgz', 1),\n",
              " ('@srinivasiyc', 1),\n",
              " ('https://t.co/zjcl195vqs', 1),\n",
              " ('#southkerry', 1),\n",
              " ('#skelligcoast2kms', 1),\n",
              " ('@skelligsix18', 1),\n",
              " ('closer!)', 1),\n",
              " ('coast!', 1),\n",
              " ('skellig', 1)]"
            ]
          },
          "execution_count": 38,
          "metadata": {},
          "output_type": "execute_result"
        }
      ],
      "source": [
        "result.most_common()[::-1][:20]"
      ]
    },
    {
      "cell_type": "markdown",
      "metadata": {
        "id": "uRp3J1gQunlR"
      },
      "source": [
        "**Ответ:** В список непопулярных слов попали в основном ссылки на социальные сети, веб-страницы, которые не так часто употребляются. Также можно заменить, что некоторые слова в списке в конце имеют окончания и знаки препинания. Возможно, если призвести лемматизацию и стемминг, а также отделить знаки препинания, то данные слова уйдут из списка\n",
        "\n"
      ]
    },
    {
      "cell_type": "markdown",
      "metadata": {
        "id": "wx9LQOSPzvjV"
      },
      "source": [
        "Теперь воспользуемся токенайзером получше - TweetTokenizer из библиотеки nltk. Примените его и посмотрите на топ-10 популярных слов. Чем он отличается от топа, который получался раньше? Почему?"
      ]
    },
    {
      "cell_type": "code",
      "execution_count": 39,
      "metadata": {
        "id": "2G1UkyVxzvFY",
        "outputId": "2c23b352-a1bd-4251-9392-097ae8cff3c8"
      },
      "outputs": [
        {
          "data": {
            "text/plain": [
              "[('the', 26993),\n",
              " ('.', 24108),\n",
              " ('to', 23478),\n",
              " (',', 17571),\n",
              " ('and', 14825),\n",
              " ('of', 13044),\n",
              " ('a', 11891),\n",
              " ('in', 11348),\n",
              " ('?', 9524),\n",
              " ('#coronavirus', 8808)]"
            ]
          },
          "execution_count": 39,
          "metadata": {},
          "output_type": "execute_result"
        }
      ],
      "source": [
        "from nltk.tokenize import TweetTokenizer\n",
        "tokenizer = TweetTokenizer()\n",
        "text = \" \".join(train['OriginalTweet'].str.lower())\n",
        "words = tokenizer.tokenize(text)\n",
        "Counter(words).most_common(10)"
      ]
    },
    {
      "cell_type": "markdown",
      "metadata": {
        "id": "50eVUnJN1Zxl"
      },
      "source": [
        "**Ответ:** Данный токенайзер отделяет знаки препинания от слов. Так как они встречаются в каждом предложении, то они попали в топ 10 самых встречаемых"
      ]
    },
    {
      "cell_type": "markdown",
      "metadata": {
        "id": "1gqQgiMs11bs"
      },
      "source": [
        "Удалите из словаря стоп-слова и пунктуацию, посмотрите на новый топ-10 слов с количеством встреч, есть ли теперь в нем что-то не похожее на слова?"
      ]
    },
    {
      "cell_type": "code",
      "execution_count": 40,
      "metadata": {
        "id": "0yHWdFrp0Mup",
        "outputId": "d2f0eedc-6751-4af4-b4fe-8db7f04986ac"
      },
      "outputs": [
        {
          "data": {
            "text/plain": [
              "[('#coronavirus', 8808),\n",
              " ('â', 7415),\n",
              " ('\\x82', 7311),\n",
              " ('19', 7167),\n",
              " ('covid', 6253),\n",
              " ('prices', 4601),\n",
              " ('\\x92', 4372),\n",
              " ('food', 4367),\n",
              " ('store', 3877),\n",
              " ('supermarket', 3805)]"
            ]
          },
          "execution_count": 40,
          "metadata": {},
          "output_type": "execute_result"
        }
      ],
      "source": [
        "from string import punctuation\n",
        "dict_words = dict(Counter(words))\n",
        "result = dict()\n",
        "for word, cnt in dict_words.items():\n",
        "    if word not in stop_words and word not in punctuation:\n",
        "        result[word] = cnt\n",
        "result = Counter(result)\n",
        "result.most_common(10)\n"
      ]
    },
    {
      "cell_type": "markdown",
      "metadata": {
        "id": "8ZJqXELP_Yxy"
      },
      "source": [
        "**Ответ:** В списке появились новые слова, содержащие приписку \\x и некоторые непонятные символы. Также появилось число 19, так как оно отделилось от слова covid при применении данного токенайзера"
      ]
    },
    {
      "cell_type": "markdown",
      "metadata": {
        "id": "rzXjMsSB_kXB"
      },
      "source": [
        "Удалите из словаря токены из одного символа, с позицией в таблице Unicode 128 и более (`ord(x) >= 128`)\n",
        "\n",
        "Выведите топ-10 самых популярных и топ-20 непопулярных слов. Чем полученные топы отличаются от итоговых топов, полученных при использовании токенизации по пробелам? Что теперь лучше, а что хуже?"
      ]
    },
    {
      "cell_type": "code",
      "execution_count": 41,
      "metadata": {
        "id": "1695hlkS_1-J",
        "outputId": "e29b7ff9-90bd-4699-b4c1-bf33af847a23"
      },
      "outputs": [
        {
          "name": "stdout",
          "output_type": "stream",
          "text": [
            "Топ 10 слов\n",
            "('#coronavirus', 8808)\n",
            "('19', 7167)\n",
            "('covid', 6253)\n",
            "('prices', 4601)\n",
            "('food', 4367)\n",
            "('store', 3877)\n",
            "('supermarket', 3805)\n",
            "('grocery', 3523)\n",
            "('people', 3463)\n",
            "('#covid19', 2589)\n",
            "--------------------\n",
            "Топ 20 непопулярных слов\n",
            "('https://t.co/7j2y3rsld9', 1)\n",
            "('@680news', 1)\n",
            "('@torontopearson', 1)\n",
            "('flew', 1)\n",
            "('renewing', 1)\n",
            "('playersã', 1)\n",
            "('subsidise', 1)\n",
            "('non-playing', 1)\n",
            "('premiership', 1)\n",
            "('https://t.co/iaek4fwsgz', 1)\n",
            "('@srinivasiyc', 1)\n",
            "('https://t.co/zjcl195vqs', 1)\n",
            "('#southkerry', 1)\n",
            "('#skelligcoast2kms', 1)\n",
            "('@skelligsix18', 1)\n",
            "('skellig', 1)\n",
            "('milion', 1)\n",
            "('now.when', 1)\n",
            "('https://t.co/5cbliqzx7l', 1)\n",
            "('https://t.co/lw1r0rm7xs', 1)\n"
          ]
        }
      ],
      "source": [
        "def is_correct_symbol(symbol):\n",
        "    if len(symbol) == 1 and ord(symbol) >= 128:\n",
        "        return False\n",
        "    return True\n",
        "def correct_word(word):\n",
        "    if word not in stop_words and word not in punctuation:\n",
        "        return True\n",
        "    return False\n",
        "result2 = dict()\n",
        "for word, cnt in dict(result).items():\n",
        "    if is_correct_symbol(word) and correct_word(word):\n",
        "        result2[word] = cnt\n",
        "result2 = Counter(result2)\n",
        "print('Топ 10 слов')\n",
        "for i in range(10):\n",
        "    print(result2.most_common(10)[i])\n",
        "print('-'*20)\n",
        "print('Топ 20 непопулярных слов')\n",
        "for i in range(20):\n",
        "    print(result2.most_common()[::-1][i])"
      ]
    },
    {
      "cell_type": "markdown",
      "metadata": {
        "id": "KzjHAKIlDvc6"
      },
      "source": [
        "**Ответ:** За счет использования токенайзера количество значений популярных слов возросло, что хорошо, так как они стали более сильно выделяться от остальных слов. Однако в топ стало входить число 19, которое отделилось от слова covid в результате применения токенайзера, что не очень хорошо, так как получаем число, которое не несет особой информации. Если рассматривать непопулярные слова, то тут список немного изменился за счет отделения знаков препинания от слов, но в целом он не изменился. В целом использлвание токейназера улучшило разбиение на токены, но это все еще происходит не идеально"
      ]
    },
    {
      "cell_type": "markdown",
      "metadata": {
        "id": "EcDf9_6HB2zm"
      },
      "source": [
        "Выведите топ-10 популярных хештегов с количеством встреч. Что можно сказать о них?"
      ]
    },
    {
      "cell_type": "code",
      "execution_count": 19,
      "metadata": {
        "id": "zk4fygCUBw3l",
        "outputId": "e0ac9b55-67c8-4a97-c713-a7c9cd4032db"
      },
      "outputs": [
        {
          "data": {
            "text/plain": [
              "[('#coronavirus', 8808),\n",
              " ('#covid19', 2589),\n",
              " ('#covid_19', 1734),\n",
              " ('#covid2019', 946),\n",
              " ('#toiletpaper', 744),\n",
              " ('#covid', 641),\n",
              " ('#socialdistancing', 465),\n",
              " ('#coronacrisis', 448),\n",
              " ('#pandemic', 257),\n",
              " ('#coronaviruspandemic', 249)]"
            ]
          },
          "execution_count": 19,
          "metadata": {},
          "output_type": "execute_result"
        }
      ],
      "source": [
        "hash_tags = dict()\n",
        "for word, cnt in dict(result2).items():\n",
        "    if len(word) > 1 and word[0] == '#':\n",
        "        hash_tags[word] = cnt\n",
        "\n",
        "Counter(hash_tags).most_common(10)"
      ]
    },
    {
      "cell_type": "markdown",
      "metadata": {
        "id": "-6NeNWBkDxM7"
      },
      "source": [
        "**Ответ:** Данные хештеги несут одну и ту же информацию: речь идет о covid-19. Но из-за того, что они написаны по-разному токенайзер их разделяет отдельно."
      ]
    },
    {
      "cell_type": "markdown",
      "metadata": {
        "id": "LLYBg7caD5GA"
      },
      "source": [
        "То же самое проделайте для ссылок на сайт https://t.co Сравнима ли популярность ссылок с популярностью хештегов? Будет ли информация о ссылке на конкретную страницу полезна?"
      ]
    },
    {
      "cell_type": "code",
      "execution_count": 20,
      "metadata": {
        "id": "MXbm1oeaCK9S",
        "outputId": "4674af4d-634a-48cb-dd96-dbe8f6cbe021"
      },
      "outputs": [
        {
          "data": {
            "text/plain": [
              "[('https://t.co/oxa7swtond', 5),\n",
              " ('https://t.co/gp3eusapl8', 4),\n",
              " ('https://t.co/deftrui1pfã\\x82â', 3),\n",
              " ('https://t.co/wrlhyzizaa', 3),\n",
              " ('https://t.co/kuwipf1kqw', 3),\n",
              " ('https://t.co/zjnrx6dkkn', 3),\n",
              " ('https://t.co/3gbbdpdjat', 3),\n",
              " ('https://t.co/e2znxajpre', 3),\n",
              " ('https://t.co/catkegayoy', 3),\n",
              " ('https://t.co/g63rp042ho', 3)]"
            ]
          },
          "execution_count": 20,
          "metadata": {},
          "output_type": "execute_result"
        }
      ],
      "source": [
        "twitter_links = dict()\n",
        "for word, cnt in dict(result2).items():\n",
        "    if 'https://t.co/' in word:\n",
        "        twitter_links[word] = cnt\n",
        "Counter(twitter_links).most_common(10)"
      ]
    },
    {
      "cell_type": "markdown",
      "metadata": {
        "id": "at6lRYZ8A07N"
      },
      "source": [
        "**Ответ:** Ссылки на твиттер не рабочие, поэтому нельзя посмотреть их содержимое. По моему мнению, тематика этих ссылок должна быть такой же как и хеш-тегов"
      ]
    },
    {
      "cell_type": "markdown",
      "metadata": {
        "id": "IOGdUU1kBU1D"
      },
      "source": [
        "Используем опыт предыдущих экспериментов и напишем собственный токенайзер, улучшив TweetTokenizer. Функция tokenize должна:\n",
        "\n",
        "\n",
        "\n",
        "*   Привести текст в нижний регистр\n",
        "*   Применить TweetTokenizer для изначального выделения токенов\n",
        "*   Удалить стоп-слова, пунктуацию, токены из одного символа, с позицией в таблице Unicode 128 и более и ссылки на t.co\n",
        "\n"
      ]
    },
    {
      "cell_type": "code",
      "execution_count": 42,
      "metadata": {
        "id": "ctEsB6xkFrrK"
      },
      "outputs": [],
      "source": [
        "def custom_tokenizer(text):\n",
        "  text = text.lower()\n",
        "  new_tokenzer = TweetTokenizer()\n",
        "  first_tokens = new_tokenzer.tokenize(text)\n",
        "  tokens = []\n",
        "  for token in first_tokens:\n",
        "    if (token not in stop_words) and (token not in list(punctuation)) and ('https://t.co' not in token):\n",
        "      if len(token) == 1:\n",
        "        if ord(token) < 128:\n",
        "          tokens.append(token)\n",
        "      else:\n",
        "        tokens.append(token)\n",
        "  return tokens\n",
        "\n"
      ]
    },
    {
      "cell_type": "code",
      "execution_count": 43,
      "metadata": {
        "colab": {
          "base_uri": "https://localhost:8080/"
        },
        "id": "XwbgtYkJGYym",
        "outputId": "5808765b-3448-45e6-ccc1-7cd65f6371ef"
      },
      "outputs": [
        {
          "data": {
            "text/plain": [
              "['sample', 'text', '@sample_text', '#sampletext']"
            ]
          },
          "execution_count": 43,
          "metadata": {},
          "output_type": "execute_result"
        }
      ],
      "source": [
        "custom_tokenizer('This is sample text!!!! @Sample_text I, \\x92\\x92 https://t.co/sample  #sampletext')"
      ]
    },
    {
      "cell_type": "markdown",
      "metadata": {
        "id": "wURVABmXHk97"
      },
      "source": [
        "## Задание 3 Векторизация текстов (2 балла)"
      ]
    },
    {
      "cell_type": "markdown",
      "metadata": {
        "id": "H44iXkoHIQfN"
      },
      "source": [
        "Обучите CountVectorizer с использованием custom_tokenizer в качестве токенайзера. Как размер полученного словаря соотносится с размером изначального словаря из начала задания 2?"
      ]
    },
    {
      "cell_type": "code",
      "execution_count": 44,
      "metadata": {
        "id": "qkJ-N1lZW9F4",
        "outputId": "fe20e42a-082e-484f-cc04-8c52de60352d"
      },
      "outputs": [
        {
          "name": "stdout",
          "output_type": "stream",
          "text": [
            "45288\n"
          ]
        }
      ],
      "source": [
        "from sklearn.feature_extraction.text import CountVectorizer\n",
        "cv = CountVectorizer(tokenizer=custom_tokenizer)\n",
        "cv.fit(train['OriginalTweet'])\n",
        "print(len(cv.vocabulary_))"
      ]
    },
    {
      "cell_type": "markdown",
      "metadata": {
        "id": "gsfmaSGoItUm"
      },
      "source": [
        "**Ответ:** Размер словаря сократился в два раза по сравнению с предыдущим"
      ]
    },
    {
      "cell_type": "markdown",
      "metadata": {
        "id": "lm6UHNmqKZT0"
      },
      "source": [
        "Посмотрим на какой-нибудь конкретный твитт:"
      ]
    },
    {
      "cell_type": "code",
      "execution_count": 45,
      "metadata": {
        "id": "aJVjjfqOJh8m",
        "outputId": "a136c676-4742-4910-f949-ed6ccd2da540"
      },
      "outputs": [
        {
          "data": {
            "text/plain": [
              "('Nice one @SkyNews lets not panic but show ppl in france queueing for food!!! #CoronavirusOutbreak #COVID2019 brainless!! Ffs',\n",
              " 0)"
            ]
          },
          "execution_count": 45,
          "metadata": {},
          "output_type": "execute_result"
        }
      ],
      "source": [
        "ind = 9023\n",
        "train.iloc[ind]['OriginalTweet'], train.iloc[ind]['Sentiment']"
      ]
    },
    {
      "cell_type": "markdown",
      "metadata": {
        "id": "PBMIHBI5KdaS"
      },
      "source": [
        "Автор твитта не доволен ситуацией с едой во Франции и текст имеет резко негативную окраску.\n",
        "\n",
        "Примените обученный CountVectorizer для векторизации данного текста, и попытайтесь определить самый важный токен и самый неважный токен (токен, компонента которого в векторе максимальна/минимальна, без учета 0). Хорошо ли они определились, почему?"
      ]
    },
    {
      "cell_type": "code",
      "execution_count": 46,
      "metadata": {
        "id": "7NcAllaEKsJj",
        "outputId": "3f717905-6b63-4d14-8847-691c47148179"
      },
      "outputs": [
        {
          "name": "stdout",
          "output_type": "stream",
          "text": [
            "Важный токен: #coronavirusoutbreak\n",
            "Неважный токен: #coronavirusoutbreak\n"
          ]
        }
      ],
      "source": [
        "X = cv.transform([train.iloc[ind]['OriginalTweet']])\n",
        "recieved_tokens = cv.get_feature_names_out()\n",
        "token_sums = X.toarray()[0]\n",
        "max_index = token_sums.argmax()\n",
        "min_index = np.where(token_sums > 0)[0][np.argsort(token_sums[token_sums > 0])[0]]\n",
        "most_important_token = recieved_tokens[max_index]\n",
        "least_important_token = recieved_tokens[min_index]\n",
        "print(f'Важный токен: {most_important_token}')\n",
        "print(f'Неважный токен: {least_important_token}')"
      ]
    },
    {
      "cell_type": "markdown",
      "metadata": {
        "id": "TpEsl1k_NF4T"
      },
      "source": [
        "**Ответ:** Получаем одинаковые значения, так как при применении данного векторайзера в массиве получаются только 0 и 1, где 0 - это отсутствие токена в документе, 1 - означает, что токен встречается один раз в тексте. В результате будет важен тот токен, который наиболее часто встречался в данном документе. Так как в данном предложении все слова уникальны, то есть нет слов встречающихся более одного раза, то важность каждого токена равнозначна, поэтому для данного предложения плохо определяется важность токена"
      ]
    },
    {
      "cell_type": "markdown",
      "metadata": {
        "id": "w4DsEQpLO3J6"
      },
      "source": [
        "Теперь примените TfidfVectorizer и  определите самый важный/неважный токены. Хорошо ли определились, почему?"
      ]
    },
    {
      "cell_type": "code",
      "execution_count": 47,
      "metadata": {
        "id": "uSNzdK3ENGB3",
        "outputId": "78ff6034-e367-4a67-d366-4bb7f75992f4"
      },
      "outputs": [
        {
          "name": "stdout",
          "output_type": "stream",
          "text": [
            "Важный токен: brainless\n",
            "Неважный токен: food\n"
          ]
        }
      ],
      "source": [
        "from sklearn.feature_extraction.text import TfidfVectorizer\n",
        "tf_idf = TfidfVectorizer(tokenizer=custom_tokenizer)\n",
        "tf_idf.fit(train['OriginalTweet'])\n",
        "X = tf_idf.transform([train.iloc[ind]['OriginalTweet']])\n",
        "recieved_tokens = tf_idf.get_feature_names_out()\n",
        "token_sums = X.toarray()[0]\n",
        "max_index = token_sums.argmax()\n",
        "min_index = np.where(token_sums > 0)[0][np.argsort(token_sums[token_sums > 0])[0]]\n",
        "most_important_token = recieved_tokens[max_index]\n",
        "least_important_token = recieved_tokens[min_index]\n",
        "print(f'Важный токен: {most_important_token}')\n",
        "print(f'Неважный токен: {least_important_token}')"
      ]
    },
    {
      "cell_type": "markdown",
      "metadata": {
        "id": "NYao_UhqQADm"
      },
      "source": [
        "**Ответ:** Данный векторайзер оценивает важность токена в документе относительно всего корпуса текста. Делается это на основе двух параметров: TF - частота встречаемости токена в конкретном документе и IDF - учитывает количество документов в корпусе, в которых встречается токен. Поэтому в результате наиболее и наименее важные токены оказались разными, что говорит о хорошем определении важности токенов"
      ]
    },
    {
      "cell_type": "markdown",
      "metadata": {
        "id": "LGRJPqfWSesQ"
      },
      "source": [
        "Найдите какой-нибудь положительно окрашенный твитт, где TfidfVectorizer хорошо (полезно для определения окраски) выделяет важный токен, поясните пример.\n",
        "\n",
        "*Подсказка:* явно положительные твитты можно искать при помощи положительных слов (good, great, amazing и т. д.)"
      ]
    },
    {
      "cell_type": "code",
      "execution_count": 48,
      "metadata": {
        "colab": {
          "base_uri": "https://localhost:8080/",
          "height": 53
        },
        "id": "bRbQ2CHiSuJI",
        "outputId": "c4b34a7d-1076-4e1e-ad5c-9466fd2097c2"
      },
      "outputs": [
        {
          "data": {
            "text/html": [
              "<div>\n",
              "<style scoped>\n",
              "    .dataframe tbody tr th:only-of-type {\n",
              "        vertical-align: middle;\n",
              "    }\n",
              "\n",
              "    .dataframe tbody tr th {\n",
              "        vertical-align: top;\n",
              "    }\n",
              "\n",
              "    .dataframe thead th {\n",
              "        text-align: right;\n",
              "    }\n",
              "</style>\n",
              "<table border=\"1\" class=\"dataframe\">\n",
              "  <thead>\n",
              "    <tr style=\"text-align: right;\">\n",
              "      <th></th>\n",
              "      <th>UserName</th>\n",
              "      <th>ScreenName</th>\n",
              "      <th>Location</th>\n",
              "      <th>TweetAt</th>\n",
              "      <th>OriginalTweet</th>\n",
              "      <th>Sentiment</th>\n",
              "    </tr>\n",
              "  </thead>\n",
              "  <tbody>\n",
              "    <tr>\n",
              "      <th>21541</th>\n",
              "      <td>30079</td>\n",
              "      <td>75031</td>\n",
              "      <td>Unknown</td>\n",
              "      <td>02-04-2020</td>\n",
              "      <td>To all my marketers friends, this is a very go...</td>\n",
              "      <td>1</td>\n",
              "    </tr>\n",
              "    <tr>\n",
              "      <th>20314</th>\n",
              "      <td>28576</td>\n",
              "      <td>73528</td>\n",
              "      <td>New Delhi, India</td>\n",
              "      <td>27-03-2020</td>\n",
              "      <td>India on lockdown...I'm more worried by death ...</td>\n",
              "      <td>1</td>\n",
              "    </tr>\n",
              "    <tr>\n",
              "      <th>192</th>\n",
              "      <td>4035</td>\n",
              "      <td>48987</td>\n",
              "      <td>San Diego, CA</td>\n",
              "      <td>16-03-2020</td>\n",
              "      <td>What's a good way to support grocery store, me...</td>\n",
              "      <td>1</td>\n",
              "    </tr>\n",
              "    <tr>\n",
              "      <th>5140</th>\n",
              "      <td>10048</td>\n",
              "      <td>55000</td>\n",
              "      <td>New Zealand</td>\n",
              "      <td>19-03-2020</td>\n",
              "      <td>Countdown supermarket limiting some goods: You...</td>\n",
              "      <td>1</td>\n",
              "    </tr>\n",
              "    <tr>\n",
              "      <th>4066</th>\n",
              "      <td>8742</td>\n",
              "      <td>53694</td>\n",
              "      <td>Adelaide, South Australia</td>\n",
              "      <td>18-03-2020</td>\n",
              "      <td>BREAKING: WeÃÂre giving supermarkets the opt...</td>\n",
              "      <td>1</td>\n",
              "    </tr>\n",
              "    <tr>\n",
              "      <th>...</th>\n",
              "      <td>...</td>\n",
              "      <td>...</td>\n",
              "      <td>...</td>\n",
              "      <td>...</td>\n",
              "      <td>...</td>\n",
              "      <td>...</td>\n",
              "    </tr>\n",
              "    <tr>\n",
              "      <th>18987</th>\n",
              "      <td>26911</td>\n",
              "      <td>71863</td>\n",
              "      <td>Unknown</td>\n",
              "      <td>25-03-2020</td>\n",
              "      <td>@AmyPoythress I hope you &amp;amp; your family rem...</td>\n",
              "      <td>1</td>\n",
              "    </tr>\n",
              "    <tr>\n",
              "      <th>469</th>\n",
              "      <td>4365</td>\n",
              "      <td>49317</td>\n",
              "      <td>TaÃÂ¯wan</td>\n",
              "      <td>16-03-2020</td>\n",
              "      <td>#COVID19 19 A friend of mine in the US works a...</td>\n",
              "      <td>1</td>\n",
              "    </tr>\n",
              "    <tr>\n",
              "      <th>15620</th>\n",
              "      <td>22797</td>\n",
              "      <td>67749</td>\n",
              "      <td>Unknown</td>\n",
              "      <td>24-03-2020</td>\n",
              "      <td>The markets aren t collapsing bc of democrats ...</td>\n",
              "      <td>1</td>\n",
              "    </tr>\n",
              "    <tr>\n",
              "      <th>18819</th>\n",
              "      <td>26706</td>\n",
              "      <td>71658</td>\n",
              "      <td>Chicago, IL</td>\n",
              "      <td>25-03-2020</td>\n",
              "      <td>Online grocery shopping? Here are some good ti...</td>\n",
              "      <td>1</td>\n",
              "    </tr>\n",
              "    <tr>\n",
              "      <th>18430</th>\n",
              "      <td>26221</td>\n",
              "      <td>71173</td>\n",
              "      <td>Unknown</td>\n",
              "      <td>25-03-2020</td>\n",
              "      <td>It's a shame more corporate Masters of the Uni...</td>\n",
              "      <td>1</td>\n",
              "    </tr>\n",
              "  </tbody>\n",
              "</table>\n",
              "<p>928 rows × 6 columns</p>\n",
              "</div>"
            ],
            "text/plain": [
              "       UserName  ScreenName                   Location     TweetAt  \\\n",
              "21541     30079       75031                    Unknown  02-04-2020   \n",
              "20314     28576       73528           New Delhi, India  27-03-2020   \n",
              "192        4035       48987              San Diego, CA  16-03-2020   \n",
              "5140      10048       55000                New Zealand  19-03-2020   \n",
              "4066       8742       53694  Adelaide, South Australia  18-03-2020   \n",
              "...         ...         ...                        ...         ...   \n",
              "18987     26911       71863                    Unknown  25-03-2020   \n",
              "469        4365       49317                  TaÃÂ¯wan  16-03-2020   \n",
              "15620     22797       67749                    Unknown  24-03-2020   \n",
              "18819     26706       71658                Chicago, IL  25-03-2020   \n",
              "18430     26221       71173                    Unknown  25-03-2020   \n",
              "\n",
              "                                           OriginalTweet  Sentiment  \n",
              "21541  To all my marketers friends, this is a very go...          1  \n",
              "20314  India on lockdown...I'm more worried by death ...          1  \n",
              "192    What's a good way to support grocery store, me...          1  \n",
              "5140   Countdown supermarket limiting some goods: You...          1  \n",
              "4066   BREAKING: WeÃÂre giving supermarkets the opt...          1  \n",
              "...                                                  ...        ...  \n",
              "18987  @AmyPoythress I hope you &amp; your family rem...          1  \n",
              "469    #COVID19 19 A friend of mine in the US works a...          1  \n",
              "15620  The markets aren t collapsing bc of democrats ...          1  \n",
              "18819  Online grocery shopping? Here are some good ti...          1  \n",
              "18430  It's a shame more corporate Masters of the Uni...          1  \n",
              "\n",
              "[928 rows x 6 columns]"
            ]
          },
          "execution_count": 48,
          "metadata": {},
          "output_type": "execute_result"
        }
      ],
      "source": [
        "train[train['OriginalTweet'].apply(lambda x: 'good' in x or 'great' in x or 'amazing' in x) & (train['Sentiment'] == 1)]"
      ]
    },
    {
      "cell_type": "code",
      "execution_count": 49,
      "metadata": {
        "id": "jSjbKPCWk87K",
        "outputId": "1a716df8-fe4a-4c9f-dd90-ffa2da0d5da2"
      },
      "outputs": [
        {
          "name": "stdout",
          "output_type": "stream",
          "text": [
            "Healthcare workers are amazing during this #COVID2019 pandemic but please let's not forget how amazing our Supermarket workers, chemists workers, Binmen, delivery drivers and distribution works playing a major part in keeping life going. But Healthcare is gettin all the praise\n",
            "amazing\n"
          ]
        }
      ],
      "source": [
        "positive_text = train[train['OriginalTweet'].apply(lambda x: 'good' in x or 'great' in x or 'amazing' in x) & (train['Sentiment'] == 1)].iloc[178]['OriginalTweet']\n",
        "X = tf_idf.transform([positive_text])\n",
        "recieved_tokens = tf_idf.get_feature_names_out()\n",
        "token_sums = X.toarray()[0]\n",
        "max_index = token_sums.argmax()\n",
        "importance_token = recieved_tokens[max_index]\n",
        "print(positive_text)\n",
        "print(importance_token)"
      ]
    },
    {
      "cell_type": "markdown",
      "metadata": {
        "id": "JTv9ST2_U6NA"
      },
      "source": [
        "**Ответ:** Выбрал данный пример, так как в нем хорошо выделяется токен amazing, характеризующий позитивную окраску текста"
      ]
    },
    {
      "cell_type": "markdown",
      "metadata": {
        "id": "JVEuZm8BHms6"
      },
      "source": [
        "## Задание 4 Обучение первых моделей (1 балл)"
      ]
    },
    {
      "cell_type": "markdown",
      "metadata": {
        "id": "JADkO3sfXdOG"
      },
      "source": [
        "Примените оба векторайзера для получения матриц с признаками текстов.  Выделите целевую переменную."
      ]
    },
    {
      "cell_type": "code",
      "execution_count": 50,
      "metadata": {
        "id": "DguoiXhCX2oN",
        "outputId": "bc0a5de1-d8fb-4871-b9bc-740fc0f5777a"
      },
      "outputs": [],
      "source": [
        "vect1 = CountVectorizer(tokenizer=custom_tokenizer)\n",
        "vect2 = TfidfVectorizer(tokenizer=custom_tokenizer)\n",
        "X_train1 = vect1.fit_transform(train['OriginalTweet'])\n",
        "X_test1 = vect1.transform(test['OriginalTweet'])\n",
        "X_train2 = vect2.fit_transform(train['OriginalTweet'])\n",
        "X_test2 = vect2.transform(test['OriginalTweet'])\n",
        "y_train = train['Sentiment']\n",
        "y_test = test['Sentiment']"
      ]
    },
    {
      "cell_type": "markdown",
      "metadata": {
        "id": "_FX1KSOfYSx4"
      },
      "source": [
        "Обучите логистическую регрессию на векторах из обоих векторайзеров. Посчитайте долю правильных ответов на обучающих и тестовых данных. Какой векторайзер показал лучший результат? Что можно сказать о моделях?"
      ]
    },
    {
      "cell_type": "code",
      "execution_count": 51,
      "metadata": {
        "id": "-Tb3eh8UXJ6v",
        "outputId": "d67e2c90-453a-4a08-db4e-df39bf13bdb4"
      },
      "outputs": [
        {
          "name": "stdout",
          "output_type": "stream",
          "text": [
            "Модель 1 (CountVectorizer)\n",
            "Accuracy на тренировочной выборке: 0.9847073900042717\n",
            "Accuracy на тестовой выборке: 0.8673510065776361\n",
            "--------------------------------------------------\n",
            "Модель 2 (TfidfVectorizer)\n",
            "Accuracy на тренировочной выборке: 0.9224263135412217\n",
            "Accuracy на тестовой выборке: 0.8527008172214471\n"
          ]
        }
      ],
      "source": [
        "from sklearn.linear_model import LogisticRegression\n",
        "from sklearn.metrics import accuracy_score\n",
        "\n",
        "model1 = LogisticRegression(max_iter=2000)\n",
        "model1.fit(X_train1, y_train)\n",
        "print('Модель 1 (CountVectorizer)')\n",
        "print(f'Accuracy на тренировочной выборке: {accuracy_score(y_train, model1.predict(X_train1.toarray()))}')\n",
        "print(f'Accuracy на тестовой выборке: {accuracy_score(y_test, model1.predict(X_test1.toarray()))}')\n",
        "\n",
        "\n",
        "print('-'*50)\n",
        "model2 = LogisticRegression(max_iter=2000)\n",
        "model2.fit(X_train2, y_train)\n",
        "print('Модель 2 (TfidfVectorizer)')\n",
        "print(f'Accuracy на тренировочной выборке: {accuracy_score(y_train, model2.predict(X_train2.toarray()))}')\n",
        "print(f'Accuracy на тестовой выборке: {accuracy_score(y_test, model2.predict(X_test2.toarray()))}')"
      ]
    },
    {
      "cell_type": "markdown",
      "metadata": {
        "id": "8y_wO7rCmv7K"
      },
      "source": [
        "**Ответ:** В результате получаем, что первая модель, обученная на CountVectorizer, показывает качество лучше, чем вторая. Это говорит о том, что окраска текста лучше определяется важностью токена в предложении, нежели важностью относительно всего корпуса"
      ]
    },
    {
      "cell_type": "markdown",
      "metadata": {
        "id": "rSOR1i3mjrys"
      },
      "source": [
        "## Задание 5 Стемминг (0.5 балла)"
      ]
    },
    {
      "cell_type": "markdown",
      "metadata": {
        "id": "i6ONBWNPjuq-"
      },
      "source": [
        "Для уменьшения словаря можно использовать стемминг.\n",
        "\n",
        "Модифицируйте написанный токенайзер, добавив в него стемминг с использованием SnowballStemmer. Обучите Count- и Tfidf- векторайзеры. Как изменился размер словаря?"
      ]
    },
    {
      "cell_type": "code",
      "execution_count": 52,
      "metadata": {
        "id": "oVfA2-iMkQBb"
      },
      "outputs": [],
      "source": [
        "from nltk.stem import SnowballStemmer\n",
        "def custom_stem_tokenizer(text):\n",
        "  stemmer = SnowballStemmer(language='english')\n",
        "  text = text.lower()\n",
        "  new_tokenzer = TweetTokenizer()\n",
        "  first_tokens = new_tokenzer.tokenize(text)\n",
        "  tokens = []\n",
        "  for token in first_tokens:\n",
        "    if (token not in stop_words) and (token not in list(punctuation)) and ('https://t.co' not in token):\n",
        "      if len(token) == 1:\n",
        "        if ord(token) < 128:\n",
        "          tokens.append(token)\n",
        "      else:\n",
        "        tokens.append(token)\n",
        "  tokens = [stemmer.stem(token) for token in tokens]\n",
        "  return tokens"
      ]
    },
    {
      "cell_type": "code",
      "execution_count": 53,
      "metadata": {
        "colab": {
          "base_uri": "https://localhost:8080/"
        },
        "id": "9QmrjYtqnlPd",
        "outputId": "cd91291d-9676-4611-9fc4-28afaed58963"
      },
      "outputs": [
        {
          "data": {
            "text/plain": [
              "['sampl', 'text', '@sample_text', '#sampletext', 'ad', 'word', 'check', 'stem']"
            ]
          },
          "execution_count": 53,
          "metadata": {},
          "output_type": "execute_result"
        }
      ],
      "source": [
        "custom_stem_tokenizer('This is sample text!!!! @Sample_text I, \\x92\\x92 https://t.co/sample  #sampletext adding more words to check stemming')"
      ]
    },
    {
      "cell_type": "code",
      "execution_count": 54,
      "metadata": {
        "colab": {
          "base_uri": "https://localhost:8080/"
        },
        "id": "zAvUTmaplzOS",
        "outputId": "566207fe-183b-4ed6-d333-f86f0cc9ae38"
      },
      "outputs": [
        {
          "name": "stdout",
          "output_type": "stream",
          "text": [
            "36632\n"
          ]
        }
      ],
      "source": [
        "cv = CountVectorizer(tokenizer=custom_stem_tokenizer)\n",
        "cv.fit(train['OriginalTweet'])\n",
        "print(len(cv.vocabulary_))"
      ]
    },
    {
      "cell_type": "code",
      "execution_count": 55,
      "metadata": {
        "id": "TBaAz1OtW9F7",
        "outputId": "208d7499-69a9-4df5-fdf6-f090d5664071"
      },
      "outputs": [
        {
          "name": "stdout",
          "output_type": "stream",
          "text": [
            "36632\n"
          ]
        }
      ],
      "source": [
        "tf = TfidfVectorizer(tokenizer=custom_stem_tokenizer)\n",
        "tf.fit(train['OriginalTweet'])\n",
        "print(len(tf.vocabulary_))"
      ]
    },
    {
      "cell_type": "markdown",
      "metadata": {
        "id": "Oyzs5TaAoHP6"
      },
      "source": [
        "**Ответ** Размер словаря сократился примерно на 20%"
      ]
    },
    {
      "cell_type": "markdown",
      "metadata": {
        "id": "1OkncHI8oRmd"
      },
      "source": [
        "Обучите логистическую регрессию с использованием обоих векторайзеров. Изменилось ли качество? Есть ли смысл применять стемминг?"
      ]
    },
    {
      "cell_type": "code",
      "execution_count": 56,
      "metadata": {
        "id": "ykZJPphEoZ5W",
        "outputId": "483146d5-1f0d-4706-e599-4670939a04a5"
      },
      "outputs": [
        {
          "name": "stdout",
          "output_type": "stream",
          "text": [
            "Модель 1 (CountVectorizer)\n",
            "Accuracy на тренировочной выборке: 0.9720632208457924\n",
            "Accuracy на тестовой выборке: 0.8671516842734702\n",
            "--------------------------------------------------\n",
            "Модель 2 (TfidfVectorizer)\n",
            "Accuracy на тренировочной выборке: 0.9161469457496796\n",
            "Accuracy на тестовой выборке: 0.8562886186964321\n"
          ]
        }
      ],
      "source": [
        "vect1 = CountVectorizer(tokenizer=custom_stem_tokenizer)\n",
        "vect2 = TfidfVectorizer(tokenizer=custom_stem_tokenizer)\n",
        "X_train1 = vect1.fit_transform(train['OriginalTweet'])\n",
        "X_test1 = vect1.transform(test['OriginalTweet'])\n",
        "X_train2 = vect2.fit_transform(train['OriginalTweet'])\n",
        "X_test2 = vect2.transform(test['OriginalTweet'])\n",
        "y_train = train['Sentiment']\n",
        "y_test = test['Sentiment']\n",
        "\n",
        "\n",
        "model1 = LogisticRegression(max_iter=10000)\n",
        "model1.fit(X_train1, y_train)\n",
        "print('Модель 1 (CountVectorizer)')\n",
        "print(f'Accuracy на тренировочной выборке: {accuracy_score(y_train, model1.predict(X_train1.toarray()))}')\n",
        "print(f'Accuracy на тестовой выборке: {accuracy_score(y_test, model1.predict(X_test1.toarray()))}')\n",
        "print('-'*50)\n",
        "model2 = LogisticRegression(max_iter=10000)\n",
        "model2.fit(X_train2, y_train)\n",
        "print('Модель 2 (TfidfVectorizer)')\n",
        "print(f'Accuracy на тренировочной выборке: {accuracy_score(y_train, model2.predict(X_train2.toarray()))}')\n",
        "print(f'Accuracy на тестовой выборке: {accuracy_score(y_test, model2.predict(X_test2.toarray()))}')"
      ]
    },
    {
      "cell_type": "markdown",
      "metadata": {
        "id": "bCRlrODro0h8"
      },
      "source": [
        "**Ответ:** Качество моделей немного ухудшилось, поэтому нет смысла использовать стемминг"
      ]
    },
    {
      "cell_type": "markdown",
      "metadata": {
        "id": "hYWGQNEDqLC-"
      },
      "source": [
        "## Задание  6 Работа с частотами (1.5 балла)"
      ]
    },
    {
      "cell_type": "markdown",
      "metadata": {
        "id": "8Hq-tl5mqUSn"
      },
      "source": [
        "Еще один способ уменьшить количество признаков - это использовать параметры min_df и max_df при построении векторайзера  эти параметры помогают ограничить требуемую частоту встречаемости токена в документах.\n",
        "\n",
        "По умолчанию берутся все токены, которые встретились хотя бы один раз.\n",
        "\n"
      ]
    },
    {
      "cell_type": "markdown",
      "metadata": {
        "id": "m1SiD4DE3WZ2"
      },
      "source": [
        "Подберите max_df такой, что размер словаря будет 36631 (на 1 меньше, чем было). Почему параметр получился такой большой/маленький?"
      ]
    },
    {
      "cell_type": "code",
      "execution_count": 57,
      "metadata": {
        "colab": {
          "base_uri": "https://localhost:8080/"
        },
        "id": "o3YLb8PViExb",
        "outputId": "b6d67654-d232-4e11-a5ca-6f2145053e98"
      },
      "outputs": [
        {
          "name": "stdout",
          "output_type": "stream",
          "text": [
            "36631\n"
          ]
        }
      ],
      "source": [
        "cv_df = CountVectorizer(tokenizer=custom_stem_tokenizer,\n",
        "                        max_df=8000\n",
        "                        ).fit(\n",
        "                            train['OriginalTweet']\n",
        "                            )\n",
        "print(len(cv_df.vocabulary_))"
      ]
    },
    {
      "cell_type": "markdown",
      "metadata": {
        "id": "UdZYoGZR4UsA"
      },
      "source": [
        "**Ответ:** Данное значение получилось таким большим, потому что при увелечении данного параметра размер словаря сначала увеличивался бысто, так как легко найти токены, которые встречались более чем 100, 200 раз и т.д., так как данных достаточно для этого. Затем, когда значение max_df становиться большим, то в словарь уже попадают значительно меньше токенов, так как тяжело найти такие токены, которые встречались более чем 8000 раз"
      ]
    },
    {
      "cell_type": "markdown",
      "metadata": {
        "id": "_gRIUaB1u32f"
      },
      "source": [
        "Подберите min_df (используйте дефолтное значение max_df) в CountVectorizer таким образом, чтобы размер словаря был 3687 токенов (при использовании токенайзера со стеммингом), а качество осталось таким же, как и было. Что можно сказать о результатах?"
      ]
    },
    {
      "cell_type": "code",
      "execution_count": 58,
      "metadata": {
        "colab": {
          "base_uri": "https://localhost:8080/"
        },
        "id": "kSnMJkn9XmsT",
        "outputId": "e0d8eb21-e5d7-46b4-e1d1-4b1ae220e9a0"
      },
      "outputs": [
        {
          "name": "stdout",
          "output_type": "stream",
          "text": [
            "3687\n"
          ]
        }
      ],
      "source": [
        "cv_df = CountVectorizer(tokenizer=custom_stem_tokenizer,\n",
        "                        min_df=11\n",
        "                        ).fit(\n",
        "                            train['OriginalTweet']\n",
        "                            )\n",
        "print(len(cv_df.vocabulary_))"
      ]
    },
    {
      "cell_type": "code",
      "execution_count": 59,
      "metadata": {
        "id": "mvMDwpdfjm8Y",
        "outputId": "34b9ff95-b49f-4483-d014-6bba11a0c752"
      },
      "outputs": [
        {
          "name": "stdout",
          "output_type": "stream",
          "text": [
            "Accuracy на тренировочной выборке: 0.9290046988466467\n",
            "Accuracy на тестовой выборке: 0.8680486346422165\n"
          ]
        }
      ],
      "source": [
        "X_train2 = cv_df.transform(train['OriginalTweet'])\n",
        "X_test2 = cv_df.transform(test['OriginalTweet'])\n",
        "model3 = LogisticRegression(max_iter=4000)\n",
        "model3.fit(X_train2.toarray(), y_train)\n",
        "print(f'Accuracy на тренировочной выборке: {accuracy_score(y_train, model3.predict(X_train2.toarray()))}')\n",
        "print(f'Accuracy на тестовой выборке: {accuracy_score(y_test, model3.predict(X_test2.toarray()))}')\n"
      ]
    },
    {
      "cell_type": "markdown",
      "metadata": {
        "id": "3fGYpUIZx0fk"
      },
      "source": [
        "**Ответ:** В результате обучения модели, получили примерно такое же качество на тестовой выборке, на тренировочной оно упало. Возможно благодаря такой настройке гиперпараметров, снизился возможгый эффект переобучения, так как метрики упали только на тренировочной выборке"
      ]
    },
    {
      "cell_type": "markdown",
      "metadata": {
        "id": "Gx_h_-inKbBl"
      },
      "source": [
        "В предыдущих заданиях признаки не скалировались. Отскалируйте данные (при словаре размера 3.7 тысяч, векторизованные CountVectorizer), обучите логистическую регрессию, посмотрите качество и выведите `barplot` содержащий по 10 токенов, с наибольшим по модулю положительными/отрицательными весами. Что можно сказать об этих токенах?"
      ]
    },
    {
      "cell_type": "code",
      "execution_count": 61,
      "metadata": {
        "id": "KBATXJX6LG9q",
        "outputId": "1f8a08c0-ebe7-45ff-bbd3-bc757cd4f8ea"
      },
      "outputs": [
        {
          "name": "stdout",
          "output_type": "stream",
          "text": [
            "Accuracy на тренировочной выборке: 0.9412217001281503\n",
            "Accuracy на тестовой выборке:0.8446282639027307\n"
          ]
        }
      ],
      "source": [
        "from sklearn.preprocessing import StandardScaler\n",
        "scaler = StandardScaler()\n",
        "X_train2_scaler = scaler.fit_transform(X_train2.toarray())\n",
        "X_test2_scaler = scaler.transform(X_test2.toarray())\n",
        "model4 = LogisticRegression(max_iter=10000)\n",
        "model4.fit(X_train2_scaler, y_train)\n",
        "print(f'Accuracy на тренировочной выборке: {accuracy_score(y_train, model4.predict(X_train2_scaler))}')\n",
        "print(f'Accuracy на тестовой выборке:{accuracy_score(y_test, model4.predict(X_test2_scaler))}')"
      ]
    },
    {
      "cell_type": "code",
      "execution_count": 62,
      "metadata": {
        "id": "y3zINjzFW9F-",
        "outputId": "397b673f-71c8-40c6-cf35-21fec00a3029"
      },
      "outputs": [
        {
          "data": {
            "image/png": "[encoded data removed]",
            "text/plain": [
              "<Figure size 640x480 with 1 Axes>"
            ]
          },
          "metadata": {},
          "output_type": "display_data"
        }
      ],
      "source": [
        "coefs = list(map(abs, model4.coef_))[0]\n",
        "indexes = np.argsort(coefs)[::-1][:10]\n",
        "features = cv_df.get_feature_names_out()[indexes]\n",
        "values = coefs[indexes]\n",
        "sns.barplot(x=features, y=values)\n",
        "plt.xlabel('Токены')\n",
        "plt.ylabel('Важность токенов')\n",
        "plt.title('Топ 10 важных токенов');\n"
      ]
    },
    {
      "cell_type": "markdown",
      "metadata": {
        "id": "ThcEfzY1LHET"
      },
      "source": [
        "**Ответ:** По данным токенам можно сразу же охарактериховать твит. Из графика видно, что самым важным токенам по мнению модели является crisi, который говорит о негативном твите, то есть если в твите встретилось это слово, то с большей вероятностью модель отнесет его к негативному твиту. Также на столбчатой диаграммы отражены и положительные токены: free, best, like. Если они встретились в твите, то модель с большей вероятностью отнесет его к положительному твиту"
      ]
    },
    {
      "cell_type": "markdown",
      "metadata": {
        "id": "ktJVOdrIHq7B"
      },
      "source": [
        "## Задание 7 Другие признаки (1.5 балла)"
      ]
    },
    {
      "cell_type": "markdown",
      "metadata": {
        "id": "Yt3jRCZ2H0Og"
      },
      "source": [
        "Мы были сконцентрированы на работе с текстами твиттов и не использовали другие признаки - имена пользователя, дату и местоположение"
      ]
    },
    {
      "cell_type": "markdown",
      "metadata": {
        "id": "52wjewCCo_di"
      },
      "source": [
        "Изучите признаки UserName и ScreenName. полезны ли они? Если полезны, то закодируйте их, добавьте к матрице с отскалированными признаками, обучите логистическую регрессию, замерьте качество."
      ]
    },
    {
      "cell_type": "code",
      "execution_count": 63,
      "metadata": {
        "id": "63thouYZptj6",
        "outputId": "bae77ed3-7e5e-4118-d7b7-2252c4587dd9"
      },
      "outputs": [
        {
          "data": {
            "image/png": "[encoded data removed]",
            "text/plain": [
              "<Figure size 1500x600 with 2 Axes>"
            ]
          },
          "metadata": {},
          "output_type": "display_data"
        }
      ],
      "source": [
        "fig, (ax1, ax2) = plt.subplots(1, 2, figsize=(15, 6))\n",
        "sns.boxplot(data=train, x='Sentiment', y='UserName', hue='Sentiment', ax=ax1)\n",
        "sns.boxplot(data=train, x='Sentiment', y='ScreenName', hue='Sentiment', ax=ax2)\n",
        "ax1.set_title('Анализ признака Username')\n",
        "ax2.set_title('Анализ признака Screenname');"
      ]
    },
    {
      "cell_type": "code",
      "execution_count": 64,
      "metadata": {
        "id": "9j8qJfrRW9F-",
        "outputId": "d42588ab-125f-4c48-c905-23ebb7028502"
      },
      "outputs": [
        {
          "data": {
            "image/png": "[encoded data removed]",
            "text/plain": [
              "<Figure size 1500x600 with 2 Axes>"
            ]
          },
          "metadata": {},
          "output_type": "display_data"
        }
      ],
      "source": [
        "fig, (ax1, ax2) = plt.subplots(1, 2, figsize=(15, 6))\n",
        "sns.histplot(data=train, x='UserName', hue='Sentiment', bins=12, ax=ax1)\n",
        "sns.histplot(data=train, x='ScreenName', hue='Sentiment',bins=12, ax=ax2)\n",
        "ax1.set_title('Анализ признака Username')\n",
        "ax2.set_title('Анализ признака Screenname');"
      ]
    },
    {
      "cell_type": "markdown",
      "metadata": {
        "id": "r8_qR-gnpT3a"
      },
      "source": [
        "**Ответ:** По построенным графикам видно, что они никак не влияют на целевую переменную. Ну это и логично, это просто идентификаторы устройств. Они никак не могут влиять на окраску твита"
      ]
    },
    {
      "cell_type": "markdown",
      "metadata": {
        "id": "ythEcFSkt7y3"
      },
      "source": [
        "Изучите признак TweetAt в обучающей выборке: преобразуйте его к типу datetime и нарисуйте его гистограмму с разделением по цвету на оспнове целевой переменной. Полезен ли он? Если полезен, то закодируйте его, добавьте к матрице с отскалированными признаками, обучите логистическую регрессию, замерьте качество."
      ]
    },
    {
      "cell_type": "code",
      "execution_count": 65,
      "metadata": {
        "id": "Lxb_k0JLirNv",
        "outputId": "363ae89e-0637-4386-c629-a56539422ba7"
      },
      "outputs": [
        {
          "data": {
            "image/png": "[encoded data removed]",
            "text/plain": [
              "<Figure size 1200x1000 with 2 Axes>"
            ]
          },
          "metadata": {},
          "output_type": "display_data"
        }
      ],
      "source": [
        "train['TweetAt'] = pd.to_datetime(train['TweetAt'], format='%d-%m-%Y')\n",
        "test['TweetAt'] = pd.to_datetime(test['TweetAt'], format='%d-%m-%Y')\n",
        "fig, (ax1, ax2) = plt.subplots(2, 1, figsize=(12, 10))\n",
        "sns.histplot(data=train, x='TweetAt', hue='Sentiment', bins=30, ax=ax1)\n",
        "sns.countplot(data=train, x=train['TweetAt'].dt.month, hue='Sentiment', ax=ax2);"
      ]
    },
    {
      "cell_type": "markdown",
      "metadata": {
        "id": "4IdLBdpQxM-G"
      },
      "source": [
        "**Ответ:** # По гистограмме можно увидеть, что основное количество твитов приходится на середину каждого месяца. Также можно заметить, что сначала преоладали негативные твиты. Начиная с середины марта тенденция меняется и в большинстве случаев преобладают положительные твиты. Так что закономерность хоть и неоднозначная, но есть. Можно попробовать добавить этот признак в качестве обучения модели.\n",
        "\n"
      ]
    },
    {
      "cell_type": "code",
      "execution_count": null,
      "metadata": {
        "id": "hySVOB9wW9F_"
      },
      "outputs": [],
      "source": [
        "scaler = StandardScaler()\n",
        "X_train3 = pd.concat([pd.DataFrame(X_train1.toarray()), pd.DataFrame(train['TweetAt'].apply(lambda x: x.date().weekday()+1)).reset_index(drop=True).rename(columns={'TweetAt': 36650})], axis=1)\n",
        "X_test3 = pd.concat([pd.DataFrame(X_test1.toarray()), pd.DataFrame(test['TweetAt'].apply(lambda x: x.date().weekday()+1)).reset_index(drop=True).rename(columns={'TweetAt': 36650})], axis=1)\n",
        "X_train3_scaler = scaler.fit_transform(X_train3)\n",
        "X_test3_scaler = scaler.transform(X_test3)"
      ]
    },
    {
      "cell_type": "code",
      "execution_count": null,
      "metadata": {
        "id": "pA-KtDAlW9F_",
        "outputId": "4008a720-27db-4d5c-dafe-bbcb0fbf525f"
      },
      "outputs": [
        {
          "name": "stdout",
          "output_type": "stream",
          "text": [
            "Accuracy на тренировочной выборке: 0.9999572832123025\n",
            "Accuracy на тестовой выборке:0.7825393661550728\n"
          ]
        }
      ],
      "source": [
        "model5 = LogisticRegression(max_iter=2000, n_jobs=-1)\n",
        "model5.fit(X_train3_scaler, y_train)\n",
        "print(f'Accuracy на тренировочной выборке: {accuracy_score(y_train, model5.predict(X_train3_scaler))}')\n",
        "print(f'Accuracy на тестовой выборке:{accuracy_score(y_test, model5.predict(X_test3_scaler))}')"
      ]
    },
    {
      "cell_type": "markdown",
      "metadata": {
        "id": "r2JtRPhNP6qx"
      },
      "source": [
        "Поработайте с признаком Location в обучающей выборке. Сколько уникальных значений?"
      ]
    },
    {
      "cell_type": "code",
      "execution_count": 66,
      "metadata": {
        "id": "xYQZQ1FRNpoe",
        "outputId": "c92f40dc-0eb6-4e30-ec6f-6d1d604299fb"
      },
      "outputs": [
        {
          "data": {
            "text/plain": [
              "Location\n",
              "Unknown                           4944\n",
              "London                             301\n",
              "United States                      295\n",
              "London, England                    274\n",
              "New York, NY                       223\n",
              "                                  ... \n",
              "Work: Kent and Live: Sussex          1\n",
              "Somewhere on TradingView             1\n",
              "Honolulu, Hawai?i                    1\n",
              "SFO                                  1\n",
              "Waterville, Ireland Austin, TX       1\n",
              "Name: count, Length: 7949, dtype: int64"
            ]
          },
          "execution_count": 66,
          "metadata": {},
          "output_type": "execute_result"
        }
      ],
      "source": [
        "train['Location'].value_counts()"
      ]
    },
    {
      "cell_type": "markdown",
      "metadata": {
        "id": "6k4JwpRTQISa"
      },
      "source": [
        "Постройте гистограмму топ-10 по популярности местоположений (исключая Unknown)"
      ]
    },
    {
      "cell_type": "code",
      "execution_count": 67,
      "metadata": {
        "id": "J91YkhegJ0mz",
        "outputId": "cf907987-d8b1-45c5-abd7-36d3e0d9047c"
      },
      "outputs": [
        {
          "data": {
            "text/plain": [
              "<Axes: xlabel='Location'>"
            ]
          },
          "execution_count": 67,
          "metadata": {},
          "output_type": "execute_result"
        },
        {
          "data": {
            "image/png": "[encoded data removed]",
            "text/plain": [
              "<Figure size 640x480 with 1 Axes>"
            ]
          },
          "metadata": {},
          "output_type": "display_data"
        }
      ],
      "source": [
        "withot_unknown_top_10 = train['Location'].value_counts()[1:11]\n",
        "withot_unknown_top_10.plot(kind='bar')"
      ]
    },
    {
      "cell_type": "markdown",
      "metadata": {
        "id": "ZOsv3lODTfYB"
      },
      "source": [
        "Видно, что многие местоположения включают в себя более точное название места, чем другие (Например, у некоторых стоит London, UK; а у некоторых просто UK или United Kingdom).\n",
        "\n",
        "Создайте новый признак WiderLocation, который содержит самое широкое местоположение (например, из London, UK должно получиться UK). Сколько уникальных категорий теперь? Постройте аналогичную гистограмму."
      ]
    },
    {
      "cell_type": "code",
      "execution_count": 68,
      "metadata": {
        "id": "mSkow6acOMyD",
        "outputId": "b5c912d2-37d8-48cb-f170-84a7a8338b66"
      },
      "outputs": [
        {
          "data": {
            "text/plain": [
              "<Axes: xlabel='WiderLocation'>"
            ]
          },
          "execution_count": 68,
          "metadata": {},
          "output_type": "execute_result"
        },
        {
          "data": {
            "image/png": "[encoded data removed]",
            "text/plain": [
              "<Figure size 640x480 with 1 Axes>"
            ]
          },
          "metadata": {},
          "output_type": "display_data"
        }
      ],
      "source": [
        "train['WiderLocation'] = train['Location'].str.split(', ')\n",
        "train['WiderLocation'] = train['WiderLocation'].apply(lambda x: x[-1])\n",
        "withot_unknown_top_10 = train['WiderLocation'].value_counts()[1:11]\n",
        "withot_unknown_top_10.plot(kind='bar')"
      ]
    },
    {
      "cell_type": "markdown",
      "metadata": {
        "id": "cgyWrD2eVfff"
      },
      "source": [
        "Закодируйте признак WiderLocation с помощью OHE таким образом, чтобы создались только столбцы для местоположений, которые встречаются более одного раза. Сколько таких значений?\n"
      ]
    },
    {
      "cell_type": "code",
      "execution_count": 69,
      "metadata": {
        "id": "SeJBfBWgPvg_",
        "outputId": "4c963721-dbf0-4887-9c44-38ee3f00e814"
      },
      "outputs": [
        {
          "data": {
            "text/plain": [
              "1010"
            ]
          },
          "execution_count": 69,
          "metadata": {},
          "output_type": "execute_result"
        }
      ],
      "source": [
        "cv = CountVectorizer(tokenizer=custom_stem_tokenizer)\n",
        "counts_unique_counties = train['WiderLocation'].value_counts()\n",
        "new_train_df = train[train['WiderLocation'].isin(counts_unique_counties[counts_unique_counties > 1].index)].reset_index(drop=True)\n",
        "new_train_df['WiderLocation'].nunique()"
      ]
    },
    {
      "cell_type": "code",
      "execution_count": 70,
      "metadata": {
        "id": "MLqUWj3XW9GB"
      },
      "outputs": [],
      "source": [
        "from sklearn.preprocessing import OneHotEncoder\n",
        "encoder = OneHotEncoder(sparse_output=False)\n",
        "encoder.fit(new_train_df[['WiderLocation']])\n",
        "codes = encoder.transform(new_train_df[['WiderLocation']])\n",
        "one_hot_df = pd.DataFrame(codes, columns=encoder.get_feature_names_out(['WiderLocation']))\n",
        "new_train_df = pd.concat([new_train_df, one_hot_df], axis=1)\n",
        "new_train_df['TweetAt'] = new_train_df['TweetAt'].apply(lambda x: x.date().weekday()+1)\n"
      ]
    },
    {
      "cell_type": "code",
      "execution_count": 71,
      "metadata": {
        "id": "O6DWN5P3W9GB"
      },
      "outputs": [],
      "source": [
        "test['WiderLocation'] = test['Location'].str.split(', ')\n",
        "test['WiderLocation'] = test['WiderLocation'].apply(lambda x: x[-1])\n",
        "new_test_df = test[test['WiderLocation'].isin(counts_unique_counties[counts_unique_counties > 1].index)].reset_index(drop=True)\n",
        "codes = encoder.transform(new_test_df[['WiderLocation']])\n",
        "one_hot_df = pd.DataFrame(codes, columns=encoder.get_feature_names_out(['WiderLocation']))\n",
        "new_test_df = pd.concat([new_test_df, one_hot_df], axis=1)\n",
        "new_test_df['TweetAt'] = new_test_df['TweetAt'].apply(lambda x: x.date().weekday()+1)\n"
      ]
    },
    {
      "cell_type": "markdown",
      "metadata": {
        "id": "ZyMX5kZuimPK"
      },
      "source": [
        "Добавьте этот признак к матрице отскалированных текстовых признаков, обучите логистическую регрессию, замерьте качество. Как оно изменилось? Оказался ли признак полезным?\n",
        "\n",
        "\n",
        "*Подсказка:* используйте параметр `categories` в энкодере."
      ]
    },
    {
      "cell_type": "code",
      "execution_count": 72,
      "metadata": {
        "id": "EO1jNPeeim7A",
        "outputId": "c5489c39-3e62-406a-d166-fc16b2d1b870"
      },
      "outputs": [],
      "source": [
        "cv.fit(new_train_df['OriginalTweet'])\n",
        "X_train = cv.transform(new_train_df['OriginalTweet']).toarray()\n",
        "X_test = cv.transform(new_test_df['OriginalTweet']).toarray()\n",
        "new_train_df = pd.concat([new_train_df, pd.DataFrame(X_train)], axis=1)\n",
        "new_test_df = pd.concat([new_test_df, pd.DataFrame(X_test)], axis=1)\n",
        "tmp = new_train_df['Sentiment']\n",
        "new_train_df.drop(columns=['Sentiment', 'WiderLocation', 'Location', 'UserName', 'ScreenName', 'OriginalTweet'], inplace=True)\n",
        "new_train_df['Sentiment'] = tmp\n",
        "tmp = new_test_df['Sentiment']\n",
        "new_test_df.drop(columns=['Sentiment', 'WiderLocation', 'Location', 'UserName', 'ScreenName', 'OriginalTweet'], inplace=True)\n",
        "new_test_df['Sentiment'] = tmp\n",
        "\n",
        "new_train_df.columns = new_train_df.columns.astype(str)\n",
        "new_test_df.columns = new_test_df.columns.astype(str)\n"
      ]
    },
    {
      "cell_type": "code",
      "execution_count": 73,
      "metadata": {
        "id": "4swIOtJ_W9GB",
        "outputId": "06da16b6-5eea-4b5e-f7ab-d6abea67c82f"
      },
      "outputs": [
        {
          "name": "stdout",
          "output_type": "stream",
          "text": [
            "Accuracy на тренировочной выборке: 0.9774347402430894\n",
            "Accuracy на тестовой выборке:0.8623956126137355\n"
          ]
        }
      ],
      "source": [
        "model = LogisticRegression(max_iter=2000)\n",
        "model.fit(new_train_df.iloc[:, :-1], new_train_df['Sentiment'])\n",
        "print(f\"Accuracy на тренировочной выборке: {accuracy_score(new_train_df['Sentiment'], model.predict(new_train_df.iloc[:, :-1]))}\")\n",
        "print(f\"Accuracy на тестовой выборке:{accuracy_score(new_test_df['Sentiment'], model.predict(new_test_df.iloc[:, :-1]))}\")"
      ]
    },
    {
      "cell_type": "markdown",
      "metadata": {
        "id": "7dHsGlDRYUQt"
      },
      "source": [
        "**Ответ:** качество осталось примерно таким же, признак не особо полезен"
      ]
    },
    {
      "cell_type": "markdown",
      "metadata": {
        "id": "IWn6h4W9eD3S"
      },
      "source": [
        "## Задание 8 Хорошее качество (Бонус 1 балл)"
      ]
    },
    {
      "cell_type": "markdown",
      "metadata": {
        "id": "-HDI0SU6eLgi"
      },
      "source": [
        "Добейтесь accuracy=0.9 на тестовой выборке (можно сменить токенайзер, векторайзер, модель и т.д.)"
      ]
    },
    {
      "cell_type": "code",
      "execution_count": 157,
      "metadata": {},
      "outputs": [],
      "source": [
        "train_df, test_df = train_test_split(df, test_size=0.3, random_state=0)"
      ]
    },
    {
      "cell_type": "code",
      "execution_count": 158,
      "metadata": {},
      "outputs": [],
      "source": [
        "import pycountry\n",
        "countries = {country.name.upper(): country.alpha_2 for country in pycountry.countries}\n",
        "countries.update({country.alpha_2: country.alpha_2 for country in pycountry.countries})\n",
        "\n",
        "def get_wider_location(location):\n",
        "    parts = [part.strip().upper() for part in location.split(',')]\n",
        "    \n",
        "    for part in parts:\n",
        "        if part in countries:\n",
        "            return countries[part]\n",
        "    return parts[-1]\n",
        "train_df['WiderLocation'] = train_df['Location'].apply(get_wider_location)\n",
        "test_df['WiderLocation'] = test_df['Location'].apply(get_wider_location)"
      ]
    },
    {
      "cell_type": "code",
      "execution_count": 159,
      "metadata": {},
      "outputs": [],
      "source": [
        "counts_unique_counties = train_df['WiderLocation'].value_counts()\n",
        "train_df = train_df[train_df['WiderLocation'].isin(counts_unique_counties[counts_unique_counties > 1].index)].reset_index(drop=True)"
      ]
    },
    {
      "cell_type": "code",
      "execution_count": 160,
      "metadata": {},
      "outputs": [],
      "source": [
        "encoder = OneHotEncoder(sparse_output=False)\n",
        "encoder.fit(train_df[['WiderLocation']])\n",
        "codes = encoder.transform(train_df[['WiderLocation']])\n",
        "one_hot_df = pd.DataFrame(codes, columns=encoder.get_feature_names_out(['WiderLocation']))\n",
        "train_df = pd.concat([train_df, one_hot_df], axis=1)\n",
        "\n",
        "\n",
        "\n",
        "test_df = test_df[test_df['WiderLocation'].isin(counts_unique_counties[counts_unique_counties > 1].index)].reset_index(drop=True)\n",
        "codes = encoder.transform(test_df[['WiderLocation']])\n",
        "one_hot_df = pd.DataFrame(codes, columns=encoder.get_feature_names_out(['WiderLocation']))\n",
        "test_df = pd.concat([test_df, one_hot_df], axis=1)"
      ]
    },
    {
      "cell_type": "code",
      "execution_count": 161,
      "metadata": {},
      "outputs": [],
      "source": [
        "cv.fit(train_df['OriginalTweet'])\n",
        "X_train = cv.transform(train_df['OriginalTweet']).toarray()\n",
        "X_test = cv.transform(test_df['OriginalTweet']).toarray()\n",
        "\n",
        "train_df = pd.concat([train_df, pd.DataFrame(X_train)], axis=1)\n",
        "test_df = pd.concat([test_df, pd.DataFrame(X_test)], axis=1)\n",
        "\n",
        "\n",
        "\n"
      ]
    },
    {
      "cell_type": "code",
      "execution_count": null,
      "metadata": {},
      "outputs": [],
      "source": [
        "tmp = train_df['Sentiment']\n",
        "train_df.drop(columns=['Sentiment', 'WiderLocation', 'Location', 'UserName', 'ScreenName', 'OriginalTweet'], inplace=True)\n",
        "train_df['Sentiment'] = tmp\n",
        "tmp = test_df['Sentiment']\n",
        "test_df.drop(columns=['Sentiment', 'WiderLocation', 'Location', 'UserName', 'ScreenName', 'OriginalTweet'], inplace=True)\n",
        "test_df['Sentiment'] = tmp\n",
        "\n",
        "\n",
        "train_df['TweetAt'] = pd.to_datetime(train_df['TweetAt'], format='%d-%m-%Y')\n",
        "test_df['TweetAt'] = pd.to_datetime(test_df['TweetAt'], format='%d-%m-%Y')\n",
        "train_df['TweetAt'] = train_df['TweetAt'].apply(lambda x: x.date().weekday()+1)\n",
        "test_df['TweetAt'] = test_df['TweetAt'].apply(lambda x: x.date().weekday()+1)\n",
        "\n",
        "\n",
        "train_df.columns = train_df.columns.astype(str)\n",
        "test_df.columns = test_df.columns.astype(str)"
      ]
    },
    {
      "cell_type": "code",
      "execution_count": 163,
      "metadata": {},
      "outputs": [
        {
          "data": {
            "text/plain": [
              "((20009, 33927), (8264, 33927))"
            ]
          },
          "execution_count": 163,
          "metadata": {},
          "output_type": "execute_result"
        }
      ],
      "source": [
        "train_df.shape, test_df.shape"
      ]
    },
    {
      "cell_type": "code",
      "execution_count": 137,
      "metadata": {},
      "outputs": [
        {
          "name": "stdout",
          "output_type": "stream",
          "text": [
            "Accuracy на тренировочной выборке: 0.9765105702433905\n",
            "Accuracy на тестовой выборке:0.8633833494675702\n"
          ]
        }
      ],
      "source": [
        "model = LogisticRegression(max_iter=2000)\n",
        "model.fit(train_df.iloc[:, :-1], train_df['Sentiment'])\n",
        "print(f\"Accuracy на тренировочной выборке: {accuracy_score(train_df['Sentiment'], model.predict(train_df.iloc[:, :-1]))}\")\n",
        "print(f\"Accuracy на тестовой выборке:{accuracy_score(test_df['Sentiment'], model.predict(test_df.iloc[:, :-1]))}\")"
      ]
    },
    {
      "cell_type": "code",
      "execution_count": 138,
      "metadata": {},
      "outputs": [
        {
          "name": "stdout",
          "output_type": "stream",
          "text": [
            "Accuracy на тренировочной выборке: 0.9670148433205058\n",
            "Accuracy на тестовой выборке:0.8532187802516941\n"
          ]
        }
      ],
      "source": [
        "from sklearn.linear_model import RidgeClassifierCV\n",
        "model_rb = RidgeClassifierCV()\n",
        "model_rb.fit(train_df.iloc[:, :-1], train_df['Sentiment'])\n",
        "print(f\"Accuracy на тренировочной выборке: {accuracy_score(train_df['Sentiment'], model_rb.predict(train_df.iloc[:, :-1]))}\")\n",
        "print(f\"Accuracy на тестовой выборке:{accuracy_score(test_df['Sentiment'], model_rb.predict(test_df.iloc[:, :-1]))}\")"
      ]
    },
    {
      "cell_type": "code",
      "execution_count": null,
      "metadata": {},
      "outputs": [
        {
          "name": "stdout",
          "output_type": "stream",
          "text": [
            "[LightGBM] [Info] Number of positive: 10796, number of negative: 9213\n",
            "[LightGBM] [Info] Auto-choosing row-wise multi-threading, the overhead of testing was 0.082281 seconds.\n",
            "You can set `force_row_wise=true` to remove the overhead.\n",
            "And if memory is not enough, you can set `force_col_wise=true`.\n",
            "[LightGBM] [Info] Total Bins 6683\n",
            "[LightGBM] [Info] Number of data points in the train set: 20009, number of used features: 2358\n",
            "[LightGBM] [Info] [binary:BoostFromScore]: pavg=0.539557 -> initscore=0.158560\n",
            "[LightGBM] [Info] Start training from score 0.158560\n",
            "Accuracy на тренировочной выборке: 0.8790044479984007\n",
            "Accuracy на тестовой выборке:0.8468054211035818\n"
          ]
        }
      ],
      "source": [
        "from lightgbm import LGBMClassifier\n",
        "model_lgb = LGBMClassifier()\n",
        "model_lgb.fit(train_df.iloc[:, :-1].to_numpy(), train_df['Sentiment'].to_numpy())\n",
        "print(f\"Accuracy на тренировочной выборке: {accuracy_score(train_df['Sentiment'].to_numpy(), model_lgb.predict(train_df.iloc[:, :-1].to_numpy()))}\")\n",
        "print(f\"Accuracy на тестовой выборке:{accuracy_score(test_df['Sentiment'].to_numpy(), model_lgb.predict(test_df.iloc[:, :-1].to_numpy()))}\")"
      ]
    }
  ],
  "metadata": {
    "accelerator": "GPU",
    "colab": {
      "gpuType": "T4",
      "provenance": []
    },
    "kernelspec": {
      "display_name": "Python 3",
      "name": "python3"
    },
    "language_info": {
      "codemirror_mode": {
        "name": "ipython",
        "version": 3
      },
      "file_extension": ".py",
      "mimetype": "text/x-python",
      "name": "python",
      "nbconvert_exporter": "python",
      "pygments_lexer": "ipython3",
      "version": "3.10.5"
    }
  },
  "nbformat": 4,
  "nbformat_minor": 0
}
